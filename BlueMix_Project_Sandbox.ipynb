{
 "cells": [
  {
   "cell_type": "markdown",
   "metadata": {},
   "source": [
    "##Wikipedia API"
   ]
  },
  {
   "cell_type": "code",
   "execution_count": null,
   "metadata": {
    "collapsed": true
   },
   "outputs": [],
   "source": [
    "from wikipedia import Wikipedia\n",
    "from wiki2plain import Wiki2Plain"
   ]
  },
  {
   "cell_type": "code",
   "execution_count": 4,
   "metadata": {
    "collapsed": false
   },
   "outputs": [],
   "source": [
    "import numpy as np\n",
    "import pandas as pd"
   ]
  },
  {
   "cell_type": "code",
   "execution_count": 5,
   "metadata": {
    "collapsed": true
   },
   "outputs": [],
   "source": [
    "import ast\n",
    "import json\n",
    "import requests"
   ]
  },
  {
   "cell_type": "code",
   "execution_count": 6,
   "metadata": {
    "collapsed": true
   },
   "outputs": [],
   "source": [
    "# print_function turns print into a python 3 function \n",
    "# this enables python to print funky text i.e. f\\xn --> fun\n",
    "from __future__ import (division,\n",
    "                        absolute_import,\n",
    "                        print_function,\n",
    "                        unicode_literals\n",
    "                        )"
   ]
  },
  {
   "cell_type": "markdown",
   "metadata": {},
   "source": [
    "##Corpus Curation - Wiki"
   ]
  },
  {
   "cell_type": "markdown",
   "metadata": {},
   "source": [
    "####Get Math Topics from Wiki"
   ]
  },
  {
   "cell_type": "code",
   "execution_count": 4,
   "metadata": {
    "collapsed": false,
    "scrolled": false
   },
   "outputs": [],
   "source": [
    "# THIS CODE NO LONGER NEEDS TO RUN\n",
    "\n",
    "headers = {'user_agent': 'DataWrangling/1.1 (http://galvanize.it; class@galvanize.it)'}\n",
    "page = 'Lists_of_mathematics_topics'\n",
    "payload = 'action=parse&format=json&page=' + page\n",
    "url = \"https://en.wikipedia.org/w/api.php?\"\n",
    "r = requests.post(url, data=payload, headers=headers)\n",
    "topic_pages = r.json()['parse']['links']\n",
    "\n",
    "corpus_pages = []\n",
    "for i,page_complex in enumerate(topic_pages):\n",
    "    # This list will be what we use to scrape, so if it is just a \"list of\" page\n",
    "    # we are going to skip it for now\n",
    "    if not page_complex['*'].startswith(u'List'):\n",
    "        payload = 'action=parse&format=json&page=' + page_complex['*']\n",
    "        url = \"https://en.wikipedia.org/w/api.php?\"\n",
    "        try:\n",
    "            r = requests.post(url, data=payload, headers=headers)\n",
    "            corpus_pages.extend(r.json()['parse']['links'])\n",
    "        except UnicodeEncodeError:\n",
    "            print('Error getting: ' + page_complex['*'])\n",
    "            continue\n",
    "        if i % 10 == 0 or i == len(topic_pages):\n",
    "            print('Processing ' + str(i) + ' of ' + str(len(topic_pages)))\n",
    "        \n",
    "print('Total scrapped pages: ' + str(len(corpus_pages)))"
   ]
  },
  {
   "cell_type": "code",
   "execution_count": 5,
   "metadata": {
    "collapsed": false,
    "scrolled": true
   },
   "outputs": [],
   "source": [
    "# THIS CODE NO LONGER NEEDS TO RUN\n",
    "\n",
    "# # import 2nd half of corpus starting from 33530 +1090 +39530\n",
    "# # upload file to corpus\n",
    "# lang = 'en' # standard english wiki pages\n",
    "# wiki = Wikipedia(lang)\n",
    "# for i, page in enumerate(corpus_pages[33530+1090:]):\n",
    "#     try: \n",
    "#         subject = page[\"*\"]\n",
    "#         raw = wiki.article(subject)\n",
    "#         wiki2plain = Wiki2Plain(raw)\n",
    "#         content = wiki2plain.text\n",
    "#         url = 'https://gateway.watsonplatform.net/concept-insights/api/v2/corpora/liet4blerinu2/math_corp/documents/' + subject\n",
    "\n",
    "#     #     payload = {\"label\": subject,\n",
    "#     #                \"parts\": {\"data\": content,\n",
    "#     #                           \"name\": subject,\n",
    "#     #                           \"content-type\": \"text\"},\n",
    "#     #                \"user_fields\": {\"myField1\": \"my meta-data\"}}\n",
    "\n",
    "\n",
    "#         payload = {\"label\": subject,\n",
    "#                \"parts\": [{\"data\": content,\n",
    "#                           \"name\": \"article\",\n",
    "#                           \"content-type\": \"text\"},\n",
    "#                          {\"data\": \"Part of test document pure text.\"\n",
    "#                           ,\"name\": \"Text part\",\n",
    "#                           \"content-type\": \"text/plain\"}],\n",
    "#                \"user_fields\": {\"myField1\": \"my meta-data\"}}\n",
    "\n",
    "#         r2 = requests.post(url = url,\n",
    "#                           data = json.dumps(payload),\n",
    "#                           auth=auth)\n",
    "#     except:\n",
    "#         print (\"some error\", \"file\", i,  subject)\n",
    "        \n",
    "#     if r2.status_code != 201:\n",
    "#         print (r2.status_code, subject)\n",
    "#     if i % 10 == 0:\n",
    "#         print (i)"
   ]
  },
  {
   "cell_type": "code",
   "execution_count": 14,
   "metadata": {
    "collapsed": true
   },
   "outputs": [],
   "source": [
    "# starter code from StackOverFlow\n",
    "# import os.path\n",
    "\n",
    "# def scrape_wiki(path,topic):\n",
    "#     '''\n",
    "#     Get all text from wiki page based on the topic entered.\n",
    "#     '''\n",
    "#     lang = 'en' # standard english wiki pages\n",
    "#     wiki = Wikipedia(lang)\n",
    "        \n",
    "#     fname = path + topic + '.txt'\n",
    "    \n",
    "#     if not os.path.isfile(fname):    \n",
    "#         try:\n",
    "#             raw = wiki.article(topic)\n",
    "#         except:\n",
    "#             raw = None\n",
    "\n",
    "#         if raw:\n",
    "#             wiki2plain = Wiki2Plain(raw)\n",
    "#             content = wiki2plain.text\n",
    "\n",
    "#             with open(fname,'w') as handle:\n",
    "#                 handle.write(content) "
   ]
  },
  {
   "cell_type": "markdown",
   "metadata": {},
   "source": [
    "##Concept Insights (Explore APIs)"
   ]
  },
  {
   "cell_type": "markdown",
   "metadata": {},
   "source": [
    "###Get Account ID"
   ]
  },
  {
   "cell_type": "code",
   "execution_count": 7,
   "metadata": {
    "collapsed": false
   },
   "outputs": [],
   "source": [
    "from pprint import pprint"
   ]
  },
  {
   "cell_type": "code",
   "execution_count": 8,
   "metadata": {
    "collapsed": false
   },
   "outputs": [],
   "source": [
    "# get account_id\n",
    "base_url = \"https://watson-api-explorer.mybluemix.net/concept-insights/api\"\n",
    "account_url = 'https://watson-api-explorer.mybluemix.net/concept-insights/api/v2/accounts'\n",
    "auth=('82a698f0-8d8c-42f9-9c7d-1e4b97eebd52','50KJG6jdgZ6h')\n",
    "\n",
    "r = requests.get(account_url, auth=auth)"
   ]
  },
  {
   "cell_type": "code",
   "execution_count": 9,
   "metadata": {
    "collapsed": false
   },
   "outputs": [
    {
     "name": "stdout",
     "output_type": "stream",
     "text": [
      "{\"accounts\":[{\"account_id\":\"liet4blerinu2\"}]}\n"
     ]
    }
   ],
   "source": [
    "# display account id\n",
    "print(r.content)"
   ]
  },
  {
   "cell_type": "markdown",
   "metadata": {},
   "source": [
    "###View Document Annotations"
   ]
  },
  {
   "cell_type": "code",
   "execution_count": 64,
   "metadata": {
    "collapsed": false,
    "scrolled": true
   },
   "outputs": [
    {
     "name": "stdout",
     "output_type": "stream",
     "text": [
      "200\n"
     ]
    },
    {
     "data": {
      "text/plain": [
       "{'annotations': [],\n",
       " 'id': '/corpora/liet4blerinu2/math_corp/documents/test',\n",
       " 'label': 'test'}"
      ]
     },
     "execution_count": 64,
     "metadata": {},
     "output_type": "execute_result"
    }
   ],
   "source": [
    "# GET /v2/corpora/{account_id}/{corpus}/documents/{document}/annotations\n",
    "url = 'https://gateway.watsonplatform.net/concept-insights/api/v2/corpora/liet4blerinu2/math_corp/documents/test/annotations'\n",
    "r = requests.get(url,auth=auth)\n",
    "\n",
    "print (r.status_code)\n",
    "\n",
    "ast.literal_eval(r.content)"
   ]
  },
  {
   "cell_type": "markdown",
   "metadata": {},
   "source": [
    "###Get available corpora"
   ]
  },
  {
   "cell_type": "code",
   "execution_count": 9,
   "metadata": {
    "collapsed": false
   },
   "outputs": [
    {
     "data": {
      "text/plain": [
       "200"
      ]
     },
     "execution_count": 9,
     "metadata": {},
     "output_type": "execute_result"
    }
   ],
   "source": [
    "available_corpora = 'https://gateway.watsonplatform.net/concept-insights/api/v2/corpora/liet4blerinu2'\n",
    "\n",
    "r = requests.get(available_corpora, auth=auth)\n",
    "r.status_code"
   ]
  },
  {
   "cell_type": "code",
   "execution_count": 10,
   "metadata": {
    "collapsed": false,
    "scrolled": true
   },
   "outputs": [
    {
     "data": {
      "text/plain": [
       "{'corpora': [{'access': 'private',\n",
       "   'id': '/corpora/liet4blerinu2/math_corp',\n",
       "   'users': [{'account_id': '', 'permission': 'ReadWriteAdmin'},\n",
       "    {'account_id': 'liet4blerinu2', 'permission': 'ReadWriteAdmin'}]}]}"
      ]
     },
     "execution_count": 10,
     "metadata": {},
     "output_type": "execute_result"
    }
   ],
   "source": [
    "# display available corpora and it's parameters\n",
    "ast.literal_eval(r.content)"
   ]
  },
  {
   "cell_type": "markdown",
   "metadata": {},
   "source": [
    "###Delete Corpus by ID"
   ]
  },
  {
   "cell_type": "code",
   "execution_count": 18,
   "metadata": {
    "collapsed": false
   },
   "outputs": [
    {
     "data": {
      "text/plain": [
       "<Response [401]>"
      ]
     },
     "execution_count": 18,
     "metadata": {},
     "output_type": "execute_result"
    }
   ],
   "source": [
    "# DELETE /v2/corpora/{account_id}/{corpus} Deletes a corpus by ID\n",
    "url = 'https://gateway.watsonplatform.net/concept-insights/api/v2/corpora/liet4blerinu2/math_corp2'\n",
    "requests.delete(url)"
   ]
  },
  {
   "cell_type": "code",
   "execution_count": 22,
   "metadata": {
    "collapsed": false
   },
   "outputs": [],
   "source": [
    "# DELETE /v2/corpora/{account_id}/{corpus} Deletes a corpus by ID\n",
    "!curl -u \"82a698f0-8d8c-42f9-9c7d-1e4b97eebd52\":'50KJG6jdgZ6h' \\\n",
    "        -X DELETE 'https://gateway.watsonplatform.net/concept-insights/api/v2/corpora/liet4blerinu2/math_corp2'"
   ]
  },
  {
   "cell_type": "markdown",
   "metadata": {},
   "source": [
    "### Retrive document id's"
   ]
  },
  {
   "cell_type": "code",
   "execution_count": 32,
   "metadata": {
    "collapsed": false
   },
   "outputs": [
    {
     "name": "stdout",
     "output_type": "stream",
     "text": [
      "200\n"
     ]
    }
   ],
   "source": [
    "# GET /v2/corpora/{account_id}/{corpus}/documents\n",
    "limit = '100' \n",
    "url = 'https://gateway.watsonplatform.net/concept-insights/api/v2/corpora/liet4blerinu2/math_corp/documents?limit=' + limit\n",
    "r = requests.get(url,auth=auth)\n",
    "\n",
    "print (r.status_code)"
   ]
  },
  {
   "cell_type": "code",
   "execution_count": 33,
   "metadata": {
    "collapsed": false,
    "scrolled": true
   },
   "outputs": [
    {
     "data": {
      "text/plain": [
       "{'documents': ['/corpora/liet4blerinu2/math_corp/documents/Calculus',\n",
       "  '/corpora/liet4blerinu2/math_corp/documents/Trigonometry',\n",
       "  '/corpora/liet4blerinu2/math_corp/documents/Geometry',\n",
       "  '/corpora/liet4blerinu2/math_corp/documents/Differential%20Equations',\n",
       "  '/corpora/liet4blerinu2/math_corp/documents/Integrals',\n",
       "  '/corpora/liet4blerinu2/math_corp/documents/Unit%20Circle',\n",
       "  '/corpora/liet4blerinu2/math_corp/documents/Sine',\n",
       "  '/corpora/liet4blerinu2/math_corp/documents/Cosine',\n",
       "  '/corpora/liet4blerinu2/math_corp/documents/pythagorean%20theorem',\n",
       "  '/corpora/liet4blerinu2/math_corp/documents/Circle',\n",
       "  '/corpora/liet4blerinu2/math_corp/documents/Circumference',\n",
       "  '/corpora/liet4blerinu2/math_corp/documents/Closure%20operator',\n",
       "  '/corpora/liet4blerinu2/math_corp/documents/Combinatorics',\n",
       "  '/corpora/liet4blerinu2/math_corp/documents/Commutative%20algebra',\n",
       "  '/corpora/liet4blerinu2/math_corp/documents/Compass-and-straightedge%20construction',\n",
       "  '/corpora/liet4blerinu2/math_corp/documents/Complement%20%28set%20theory%29',\n",
       "  '/corpora/liet4blerinu2/math_corp/documents/Complex%20analysis',\n",
       "  '/corpora/liet4blerinu2/math_corp/documents/Complex%20geometry',\n",
       "  '/corpora/liet4blerinu2/math_corp/documents/Complex%20manifold',\n",
       "  '/corpora/liet4blerinu2/math_corp/documents/List%20of%20mathematicians%20%28A%29',\n",
       "  '/corpora/liet4blerinu2/math_corp/documents/List%20of%20mathematicians%20%28B%29',\n",
       "  '/corpora/liet4blerinu2/math_corp/documents/List%20of%20mathematicians%20%28C%29',\n",
       "  '/corpora/liet4blerinu2/math_corp/documents/List%20of%20mathematicians%20%28D%29',\n",
       "  '/corpora/liet4blerinu2/math_corp/documents/List%20of%20mathematicians%20%28E%29',\n",
       "  '/corpora/liet4blerinu2/math_corp/documents/List%20of%20mathematicians%20%28F%29',\n",
       "  '/corpora/liet4blerinu2/math_corp/documents/List%20of%20mathematicians%20%28G%29',\n",
       "  '/corpora/liet4blerinu2/math_corp/documents/List%20of%20mathematicians%20%28H%29',\n",
       "  '/corpora/liet4blerinu2/math_corp/documents/List%20of%20mathematicians%20%28I%29',\n",
       "  '/corpora/liet4blerinu2/math_corp/documents/List%20of%20mathematicians%20%28J%29',\n",
       "  '/corpora/liet4blerinu2/math_corp/documents/List%20of%20mathematicians%20%28K%29',\n",
       "  '/corpora/liet4blerinu2/math_corp/documents/List%20of%20mathematicians%20%28L%29',\n",
       "  '/corpora/liet4blerinu2/math_corp/documents/List%20of%20mathematicians%20%28M%29',\n",
       "  '/corpora/liet4blerinu2/math_corp/documents/List%20of%20mathematicians%20%28N%29',\n",
       "  '/corpora/liet4blerinu2/math_corp/documents/List%20of%20mathematicians%20%28O%29',\n",
       "  '/corpora/liet4blerinu2/math_corp/documents/List%20of%20mathematicians%20%28P%29',\n",
       "  '/corpora/liet4blerinu2/math_corp/documents/List%20of%20mathematicians%20%28Q%29',\n",
       "  '/corpora/liet4blerinu2/math_corp/documents/List%20of%20mathematicians%20%28R%29',\n",
       "  '/corpora/liet4blerinu2/math_corp/documents/List%20of%20mathematicians%20%28S%29',\n",
       "  '/corpora/liet4blerinu2/math_corp/documents/List%20of%20mathematicians%20%28T%29',\n",
       "  '/corpora/liet4blerinu2/math_corp/documents/List%20of%20mathematicians%20%28U%29',\n",
       "  '/corpora/liet4blerinu2/math_corp/documents/List%20of%20mathematicians%20%28V%29',\n",
       "  '/corpora/liet4blerinu2/math_corp/documents/List%20of%20mathematicians%20%28W%29',\n",
       "  '/corpora/liet4blerinu2/math_corp/documents/List%20of%20mathematicians%20%28X%29',\n",
       "  '/corpora/liet4blerinu2/math_corp/documents/List%20of%20mathematicians%20%28Y%29',\n",
       "  '/corpora/liet4blerinu2/math_corp/documents/List%20of%20mathematicians%20%28Z%29',\n",
       "  '/corpora/liet4blerinu2/math_corp/documents/List%20of%20mathematics%20categories',\n",
       "  '/corpora/liet4blerinu2/math_corp/documents/Lists%20of%20mathematicians',\n",
       "  '/corpora/liet4blerinu2/math_corp/documents/Lists%20of%20mathematics%20topics',\n",
       "  '/corpora/liet4blerinu2/math_corp/documents/Mathematics',\n",
       "  '/corpora/liet4blerinu2/math_corp/documents/Outline%20of%20mathematics',\n",
       "  '/corpora/liet4blerinu2/math_corp/documents/Template%20talk%3AMathTopicTOC',\n",
       "  '/corpora/liet4blerinu2/math_corp/documents/Portal%3AMathematics',\n",
       "  '/corpora/liet4blerinu2/math_corp/documents/Abstract%20algebra',\n",
       "  '/corpora/liet4blerinu2/math_corp/documents/Algebra',\n",
       "  '/corpora/liet4blerinu2/math_corp/documents/Algebraic%20geometry',\n",
       "  '/corpora/liet4blerinu2/math_corp/documents/Applied%20mathematics',\n",
       "  '/corpora/liet4blerinu2/math_corp/documents/Areas%20of%20mathematics',\n",
       "  '/corpora/liet4blerinu2/math_corp/documents/Arithmetic',\n",
       "  '/corpora/liet4blerinu2/math_corp/documents/Category%20theory',\n",
       "  '/corpora/liet4blerinu2/math_corp/documents/Computational%20mathematics',\n",
       "  '/corpora/liet4blerinu2/math_corp/documents/Control%20theory',\n",
       "  '/corpora/liet4blerinu2/math_corp/documents/Differential%20equation',\n",
       "  '/corpora/liet4blerinu2/math_corp/documents/Differential%20geometry',\n",
       "  '/corpora/liet4blerinu2/math_corp/documents/Discrete%20geometry',\n",
       "  '/corpora/liet4blerinu2/math_corp/documents/Discrete%20mathematics',\n",
       "  '/corpora/liet4blerinu2/math_corp/documents/Dynamical%20systems%20theory',\n",
       "  '/corpora/liet4blerinu2/math_corp/documents/Elementary%20algebra',\n",
       "  '/corpora/liet4blerinu2/math_corp/documents/Finite%20geometry',\n",
       "  '/corpora/liet4blerinu2/math_corp/documents/Functional%20analysis',\n",
       "  '/corpora/liet4blerinu2/math_corp/documents/Game%20theory',\n",
       "  '/corpora/liet4blerinu2/math_corp/documents/Graph%20theory',\n",
       "  '/corpora/liet4blerinu2/math_corp/documents/Information%20theory',\n",
       "  '/corpora/liet4blerinu2/math_corp/documents/Lie%20theory',\n",
       "  '/corpora/liet4blerinu2/math_corp/documents/Linear%20algebra',\n",
       "  '/corpora/liet4blerinu2/math_corp/documents/Mathematical%20analysis',\n",
       "  '/corpora/liet4blerinu2/math_corp/documents/Mathematical%20logic',\n",
       "  '/corpora/liet4blerinu2/math_corp/documents/Mathematical%20optimization',\n",
       "  '/corpora/liet4blerinu2/math_corp/documents/Mathematical%20physics',\n",
       "  '/corpora/liet4blerinu2/math_corp/documents/Mathematical%20statistics',\n",
       "  '/corpora/liet4blerinu2/math_corp/documents/Metamathematics',\n",
       "  '/corpora/liet4blerinu2/math_corp/documents/Multilinear%20algebra',\n",
       "  '/corpora/liet4blerinu2/math_corp/documents/Number%20theory',\n",
       "  '/corpora/liet4blerinu2/math_corp/documents/Numerical%20analysis',\n",
       "  '/corpora/liet4blerinu2/math_corp/documents/Probability%20theory',\n",
       "  '/corpora/liet4blerinu2/math_corp/documents/Pure%20mathematics',\n",
       "  '/corpora/liet4blerinu2/math_corp/documents/Representation%20theory',\n",
       "  '/corpora/liet4blerinu2/math_corp/documents/Set%20theory',\n",
       "  '/corpora/liet4blerinu2/math_corp/documents/Statistics',\n",
       "  '/corpora/liet4blerinu2/math_corp/documents/Theory%20of%20computation',\n",
       "  '/corpora/liet4blerinu2/math_corp/documents/Topology',\n",
       "  '/corpora/liet4blerinu2/math_corp/documents/Wikipedia%3AWikiProject%20Mathematics',\n",
       "  '/corpora/liet4blerinu2/math_corp/documents/Template%20talk%3AAreas%20of%20mathematics',\n",
       "  '/corpora/liet4blerinu2/math_corp/documents/Help%3ATemplate',\n",
       "  '/corpora/liet4blerinu2/math_corp/documents/Category%3AFields%20of%20mathematics',\n",
       "  '/corpora/liet4blerinu2/math_corp/documents/Modern%20algebra',\n",
       "  '/corpora/liet4blerinu2/math_corp/documents/Abelian%20group',\n",
       "  '/corpora/liet4blerinu2/math_corp/documents/Abstrakt%20Algebra',\n",
       "  '/corpora/liet4blerinu2/math_corp/documents/Alexandre%20Vandermonde',\n",
       "  '/corpora/liet4blerinu2/math_corp/documents/Algebra%20over%20a%20field',\n",
       "  '/corpora/liet4blerinu2/math_corp/documents/Algebraic%20number%20theory']}"
      ]
     },
     "execution_count": 33,
     "metadata": {},
     "output_type": "execute_result"
    }
   ],
   "source": [
    "ast.literal_eval(r.content)"
   ]
  },
  {
   "cell_type": "markdown",
   "metadata": {},
   "source": [
    "###Get content of document"
   ]
  },
  {
   "cell_type": "code",
   "execution_count": 110,
   "metadata": {
    "collapsed": false
   },
   "outputs": [
    {
     "name": "stdout",
     "output_type": "stream",
     "text": [
      "200\n"
     ]
    },
    {
     "data": {
      "text/plain": [
       "{'id': '/corpora/liet4blerinu2/math_corp/documents/Sine',\n",
       " 'label': 'Sine',\n",
       " 'last_modified': '2015-12-10T15:56:15.875Z',\n",
       " 'parts': [{'content-type': 'text',\n",
       "   'data': '{{Infobox mathematics function\\n| name = Sine\\n| image = Sine one period.svg\\n| parity=odd |domain=(\\xe2\\x88\\x92,)\\\\u0026thinsp; |codomain=[\\xe2\\x88\\x921,1]\\\\u0026thinsp; |period=2\\n| zero=0 |plusinf= |minusinf= |max=((2k + \\xc2\\xbd) 1)\\\\u0026thinsp; |min=((2k \\xe2\\x88\\x92 \\xc2\\xbd) \\xe2\\x88\\x921)\\n| vr1= |f1=  |vr5= |f5=\\n| asymptote= |root=k |critical=k \\xe2\\x88\\x92  |inflection=k |fixed=0\\n| notes = \\n}}\\n\\nSine, in mathematics, is a trigonometric function of an angle. The sine of an angle is defined in the context of a right triangle: for the specified angle, it is the ratio of the length of the side that is opposite that angle to the length of the longest side of the triangle (i.e., the hypotenuse).\\n\\nTrigonometric functions are commonly defined as ratios of two sides of a right triangle containing the angle, and can equivalently be defined as the lengths of various line segments from a unit circle. More modern definitions express them as infinite series or as solutions of certain differential equations, allowing their extension to arbitrary positive and negative values and even to complex numbers.\\n\\nThe sine function is commonly used to model periodic phenomena such as sound and light waves, the position and velocity of harmonic oscillators, sunlight intensity and day length, and average temperature variations throughout the year.\\n\\nThe function sine can be traced to the jy\\xc4\\x81 and ko\\xe1\\xb9\\xadi-jy\\xc4\\x81  functions used in Gupta period Indian astronomy (Aryabhatiya, Surya Siddhanta), via translation from Sanskrit to Arabic and then from Arabic to Latin. The word \"sine\" comes from a Latin mistranslation of the Arabic jiba, which is a transliteration of the Sanskrit word for half the chord, jya-ardha.\\n\\n== Right-angled triangle definition ==\\nFor any similar triangle the ratio of the length of the sides remains the same. For example, if the hypotenuse is twice as long, so are the other sides. Therefore respective trigonometric functions, depending only on the size of the angle, express those ratios: between the hypotenuse and the \"opposite\" side to an angle A in question (see illustration) in the case of sine function; or between the hypotenuse and the \"adjacent\" side (cosine) or between the \"opposite\" and the \"adjacent\" side (tangent), etc.\\n\\nTo define the trigonometric functions for an acute angle A, start with any right triangle that contains the angle A. The three sides of the triangle are named as follows:\\n* The adjacent side is the side that is in contact with (adjacent to) both the angle we are interested in (angle A) and the right angle, in this case side b.\\n* The hypotenuse is the side opposite the right angle, in this case side h. The hypotenuse is always the longest side of a right-angled triangle.\\n* The opposite side is the side opposite to the angle we are interested in (angle A), in this case side a.\\n\\nIn ordinary Euclidean geometry, according to the triangle postulate the inside angles of every triangle total 180\\xc2\\xb0 ( radians). Therefore, in a right-angled triangle, the two non-right angles total 90\\xc2\\xb0 ( radians), so each of these angles must be greater than 0\\xc2\\xb0 and less than 90\\xc2\\xb0. The following definition applies to such angles.\\n\\nThe angle A (having measure \\xce\\xb1) is the angle between the hypotenuse and the adjacent side.\\n\\nThe sine of an angle is the ratio of the length of the opposite side to the length of the hypotenuse. In our case, it does not depend on the size of the particular right triangle chosen, as long as it contains the angle A, since all such triangles are similar.\\n\\n== Relation to slope ==\\n\\nThe trigonometric functions can be defined in terms of the rise, run, and slope of a line segment relative to some horizontal line.\\n\\n*When the length of the line segment is 1, sine takes an angle and tells the rise.\\n*Sine takes an angle and tells the rise per unit length of the line segment.\\n*Rise is equal to sin \\xce\\xb8 multiplied by the length of the line segment.\\n\\nIn contrast, cosine is used for the telling the run from the angle; and tangent is used for telling the slope from the angle. Arctan is used for telling the angle from the slope.\\n\\nThe line segment is the equivalent of the hypotenuse in the right-triangle, and when it has a length of 1 it is also equivalent to the radius of the unit circle.\\n\\n== Relation to the unit circle ==\\n\\nIn trigonometry, a unit circle is the circle of radius one centered at the origin (0, 0) in the Cartesian coordinate system.\\n\\nLet a line through the origin, making an angle of \\xce\\xb8 with the positive half of the x-axis, intersect the unit circle. The x- and y-coordinates of this point of intersection are equal to cos \\xce\\xb8 and , respectively. The point\\'s distance from the origin is always 1.\\n\\nUnlike the definitions with the right triangle or slope, the angle can be extended to the full set of real arguments by using the unit circle. This can also be achieved by requiring certain symmetries and that sine be a periodic function.\\n\\n== Identities ==\\n\\nExact identities (using radians):\\n\\nThese apply for all values of \\\\theta.\\n\\n: \\n\\\\sin(\\\\theta) = \\\\cos\\\\left(\\\\frac{\\\\pi}{2} - \\\\theta \\\\right)  = \\\\frac{1}{\\\\csc(\\\\theta)}\\n\\n=== Reciprocal ===\\nThe reciprocal of sine is cosecant, i.e., the reciprocal of  is , or cosec(A). Cosecant gives the ratio of the length of the hypotenuse to the length of the opposite side:\\n\\n:\\\\csc(A) = \\\\frac{1}{\\\\sin(A)} = \\\\frac {\\\\textrm{hypotenuse}} {\\\\textrm{opposite}} = \\\\frac{h}{a}.\\n\\n=== Inverse ===\\n\\nThe inverse function of sine is arcsine (arcsin or asin) or inverse sine (). As sine is non-injective, it is not an exact inverse function but a partial inverse function. For example, , but also ,  etc. It follows that the arcsine function is multivalued: , but also , , etc. When only one value is desired, the function may be restricted to its principal branch. With this restriction, for each x in the domain the expression  will evaluate only to a single value, called its principal value.\\n\\n:\\\\theta = \\\\arcsin \\\\left( \\\\frac{\\\\text{opposite}}{\\\\text{hypotenuse}} \\\\right) = \\\\sin^{-1} \\\\left( \\\\frac {a}{h} \\\\right).\\n\\nk is some integer:\\n\\n:\\\\begin{align}\\n\\\\sin(y) = x \\\\ \\\\Leftrightarrow\\\\ \\\\u0026 y = \\\\arcsin x + 2\\\\pi k , \\\\text{ or }\\\\\\\\\\n \\\\u0026 y = \\\\pi - \\\\arcsin(x) + 2\\\\pi k\\n\\\\end{align}\\n\\nOr in one equation:\\n\\n:\\\\sin(y) = x \\\\ \\\\Leftrightarrow\\\\  y = (-1)^k \\\\arcsin(x) + \\\\pi k\\n\\nArcsin satisfies:\\n\\n:\\\\sin(\\\\arcsin(x)) = x\\\\!\\nand\\n:\\\\arcsin(\\\\sin(\\\\theta)) = \\\\theta\\\\quad\\\\text{for }-\\\\frac{\\\\pi}{2} \\\\leq \\\\theta \\\\leq \\\\frac{\\\\pi}{2}.\\n\\n=== Calculus ===\\n\\nFor the sine function:\\n\\n:f(x) = \\\\sin(x) \\\\,\\n\\nThe derivative is:\\n\\n:f\\'(x) = \\\\cos(x) \\\\,\\n\\nThe antiderivative is:\\n\\n:\\\\int f(x)\\\\,dx = -\\\\cos x + C\\n\\nC denotes the constant of integration.\\n\\n=== Other trigonometric functions ===\\n\\nIt is possible to express any trigonometric function in terms of any other (up to a plus or minus sign, or using the sign function).\\n\\nSine in terms of the other common trigonometric functions:\\n\\n{| class=\"wikitable\"\\n|-\\n!colspan=\"1\" rowspan=\"3\"|\\n!colspan=\"1\" rowspan=\"3\"|f \\xce\\xb8\\n!colspan=\"5\"|Using plus/minus (\\xc2\\xb1)\\n!colspan=\"1\"|Using sign function (sgn)\\n|-\\n!colspan=\"1\" rowspan=2|f \\xce\\xb8 =\\n!colspan=\"4\"|\\xc2\\xb1 per Quadrant\\n!rowspan=\"2\"|f \\xce\\xb8 =\\n|-\\n! I\\n! II\\n! III\\n! IV\\n|-\\n!rowspan=\"2\"|cos\\n|\\\\sin(\\\\theta)\\n|= \\\\pm\\\\sqrt{1 - \\\\cos^2(\\\\theta)}\\n| +\\n| +\\n| \\xe2\\x88\\x92\\n| \\xe2\\x88\\x92\\n|= \\\\sgn\\\\left( \\\\cos \\\\left(\\\\theta - \\\\frac{\\\\pi}{2}\\\\right)\\\\right) \\\\sqrt{1 - \\\\cos^2(\\\\theta)}\\n|-\\n|\\\\cos(\\\\theta)\\n|= \\\\pm\\\\sqrt{1 - \\\\sin^2(\\\\theta)}\\n| +\\n| \\xe2\\x88\\x92\\n| \\xe2\\x88\\x92\\n| +\\n|= \\\\sgn\\\\left( \\\\sin \\\\left(\\\\theta+ \\\\frac{\\\\pi}{2}\\\\right)\\\\right) \\\\sqrt{1 - \\\\sin^2(\\\\theta)}\\n|-\\n!rowspan=\"2\"|cot\\n| \\\\sin(\\\\theta)\\n| = \\\\pm\\\\frac{1}{\\\\sqrt{1 + \\\\cot^2(\\\\theta)}}\\n| +\\n| +\\n| \\xe2\\x88\\x92\\n| \\xe2\\x88\\x92\\n| =  \\\\sgn\\\\left( \\\\cot\\\\left( \\\\frac{\\\\theta}{2}\\\\right)\\\\right) \\\\frac{1}{\\\\sqrt{1 + \\\\cot^2(\\\\theta)}}\\n|-\\n|\\\\cot(\\\\theta)\\n| = \\\\pm\\\\frac{\\\\sqrt{1 - \\\\sin^2(\\\\theta)}}{\\\\sin(\\\\theta)}\\n| +\\n| \\xe2\\x88\\x92\\n| \\xe2\\x88\\x92\\n| +\\n| = \\\\sgn\\\\left( \\\\sin \\\\left(\\\\theta+ \\\\frac{\\\\pi}{2}\\\\right)\\\\right) \\\\frac{\\\\sqrt{1 - \\\\sin^2(\\\\theta)}}{\\\\sin(\\\\theta)}\\n|-\\n!rowspan=\"2\"|tan\\n| \\\\sin(\\\\theta)\\n| = \\\\pm\\\\frac{\\\\tan(\\\\theta)}{\\\\sqrt{1 + \\\\tan^2(\\\\theta)}} \\n| +\\n| \\xe2\\x88\\x92\\n| \\xe2\\x88\\x92\\n| +\\n| = \\\\sgn\\\\left( \\\\tan\\\\left(\\\\frac{2\\\\theta + \\\\pi}{4}\\\\right)\\\\right) \\\\frac{\\\\tan(\\\\theta)}{\\\\sqrt{1 + \\\\tan^2(\\\\theta)}}\\n|-\\n| \\\\tan(\\\\theta)\\n| = \\\\pm\\\\frac{\\\\sin(\\\\theta)}{\\\\sqrt{1 - \\\\sin^2(\\\\theta)}}\\n| +\\n| \\xe2\\x88\\x92\\n| \\xe2\\x88\\x92\\n| +\\n| = \\\\sgn\\\\left( \\\\sin \\\\left(\\\\theta+ \\\\frac{\\\\pi}{2}\\\\right)\\\\right) \\\\frac{\\\\sin(\\\\theta)}{\\\\sqrt{1 - \\\\sin^2(\\\\theta)}}\\n|-\\n!rowspan=\"2\"|sec\\n| \\\\sin(\\\\theta)\\n| = \\\\pm\\\\frac{\\\\sqrt{\\\\sec^2(\\\\theta) - 1}}{\\\\sec(\\\\theta)} \\n| +\\n| \\xe2\\x88\\x92\\n| +\\n| \\xe2\\x88\\x92\\n| = \\\\sgn\\\\left( \\\\sec \\\\left( \\\\frac{4 \\\\theta - \\\\pi}{2}\\\\right)\\\\right) \\\\frac{\\\\sqrt{\\\\sec^2(\\\\theta) - 1}}{\\\\sec(\\\\theta)} \\n|-\\n| \\\\sec(\\\\theta)\\n| = \\\\pm\\\\frac{1}{\\\\sqrt{1 - \\\\sin^2(\\\\theta)}}\\n| +\\n| \\xe2\\x88\\x92\\n| \\xe2\\x88\\x92\\n| +\\n| = \\\\sgn\\\\left( \\\\sin \\\\left(\\\\theta+ \\\\frac{\\\\pi}{2}\\\\right)\\\\right) \\\\frac{1}{\\\\sqrt{1 - \\\\sin^2(\\\\theta)}}\\n|}\\n\\nNote that for all equations which use plus/minus (\\xc2\\xb1), the result is positive for angles in the first quadrant.\\n\\nThe basic relationship between the sine and the cosine can also be expressed as the Pythagorean trigonometric identity:\\n\\n:\\\\cos^2(\\\\theta) + \\\\sin^2(\\\\theta) = 1\\\\!\\n\\nwhere sin2x means (sin(x))2.\\n\\n== Properties relating to the quadrants ==\\nOver the four quadrants of the sine function is as follows.\\n{| class=\"wikitable\"  style=\"text-align: center\"\\n|-\\n!Quadrant\\n!Degrees\\n!Radians\\n!Value\\n!Sign\\n!Monotony\\n!Convexity\\n|-\\n|1st Quadrant\\n|0^\\\\circ\\n|0\\n|0\\n|+\\n|increasing\\n|concave\\n|-\\n|2nd Quadrant\\n|90^\\\\circ\\n|\\\\frac{\\\\pi}{2}\\n|0\\n|+\\n|decreasing\\n|concave\\n|-\\n|3rd Quadrant\\n|180^\\\\circ\\n|\\\\pi\\n|-1\\n|-\\n|decreasing\\n|convex\\n|-\\n|4th Quadrant\\n|270^\\\\circ\\n|\\\\frac{3\\\\pi}{2}\\n|-1\\n|-\\n|increasing\\n|convex\\n|}\\n\\nPoints between the quadrants. k is an integer.\\n\\n{| class=\"wikitable\" style=\"text-align: center\"\\n|-\\n!Degrees\\n!Radians\\n0 \\\\le x \\n!Radians\\n!\\\\sin(x)\\n!Point type\\n|-\\n|0^\\\\circ\\n|0\\n|2\\\\pi k\\n|0\\n|align=left|Root, Inflection\\n|-\\n|90^\\\\circ\\n|\\\\frac{\\\\pi}{2}\\n|2\\\\pi k + \\\\frac{\\\\pi}{2}\\n|1\\n|align=left|Maxima\\n|-\\n|180^\\\\circ\\n|\\\\pi\\n|2\\\\pi k - \\\\pi\\n|0\\n|align=left|Root, Inflection\\n|-\\n|270^\\\\circ\\n|\\\\frac{3\\\\pi}{2}\\n|2\\\\pi k - \\\\frac{\\\\pi}{2}\\n|-1\\n|align=left|Minima\\n|}\\n\\nFor arguments outside those in the table, get the value using the fact the sine function has a period of 360\\xc2\\xb0 (or 2 rad): \\\\sin(\\\\alpha + 360^\\\\circ) = \\\\sin(\\\\alpha), or use \\\\sin(\\\\alpha + 180^\\\\circ) = -\\\\sin(\\\\alpha).\\nOr use \\\\cos(x)=\\\\frac{e^{xi}+e^{-xi}}{2} and \\\\sin(x)=\\\\frac{e^{xi}-e^{-xi}}{2i}.\\nFor complement of sine, we have \\\\sin(180^\\\\circ-\\\\alpha) = \\\\sin(\\\\alpha).\\n\\n== Series definition ==\\nImage:Taylorsine.svg|thumb|right|The sine function (blue) is closely approximated by its Taylor polynomial of degree 7 (pink) for a full cycle centered on the origin.\\n\\nUsing only geometry and properties of limits, it can be shown that the derivative of sine is cosine, and that the derivative of cosine is the negative of sine.\\n\\nUsing the reflection from the calculated geometric derivation of the sine is with the 4n + k-th derivative at the point 0:\\n\\n:\\\\sin^{(4n+k)}(0)=\\\\begin{cases}\\n0 \\\\u0026 \\\\text{when } k=0 \\\\\\\\\\n1 \\\\u0026 \\\\text{when } k=1 \\\\\\\\\\n0 \\\\u0026 \\\\text{when } k=2 \\\\\\\\\\n-1 \\\\u0026  \\\\text{when } k=3 \\\\end{cases}\\n\\nThis gives the following Taylor series expansion at x = 0. One can then use the theory of Taylor series to show that the following identities hold for all real numbers x (where x is the angle in radians) :\\n\\n:\\n\\\\begin{align}\\n\\\\sin x \\\\u0026 = x - \\\\frac{x^3}{3!} + \\\\frac{x^5}{5!} - \\\\frac{x^7}{7!} + \\\\cdots \\\\\\\\[8pt]\\n\\\\u0026 = \\\\sum_{n=0}^\\\\infty \\\\frac{(-1)^n}{(2n+1)!}x^{2n+1} \\\\\\\\[8pt]\\n\\\\end{align}\\n\\nIf x were expressed in degrees then the series would contain messy factors involving powers of \\xcf\\x80/180: if x is the number of degrees, the number of radians is y = \\xcf\\x80x /180, so\\n\\n:\\\\begin{align}\\n\\\\sin x_\\\\mathrm{deg} \\\\u0026 = \\\\sin y_\\\\mathrm{rad} \\\\\\\\\\n\\\\u0026 = \\\\frac{\\\\pi}{180} x - \\\\left (\\\\frac{\\\\pi}{180} \\\\right )^3\\\\ \\\\frac{x^3}{3!} + \\\\left (\\\\frac{\\\\pi}{180} \\\\right )^5\\\\ \\\\frac{x^5}{5!} - \\\\left (\\\\frac{\\\\pi}{180} \\\\right )^7\\\\ \\\\frac{x^7}{7!} + \\\\cdots .\\n\\\\end{align}\\n\\nThe series formulas for the sine and cosine are uniquely determined, up to the choice of unit for angles, by the requirements that\\n:\\n\\\\begin{align}\\n\\\\sin 0 = 0 \\\\u0026 \\\\text{ and } \\\\sin{2x} = 2 \\\\sin x \\\\cos x \\\\\\\\\\n\\\\cos^2 x + \\\\sin^2 x = 1 \\\\u0026 \\\\text{ and } \\\\cos{2x} = \\\\cos^2 x - \\\\sin^2 x \\\\\\\\\\n\\\\end{align}\\n\\nThe radian is the unit that leads to the expansion with leading coefficient 1 for the sine and is determined by the additional requirement that\\n:\\n\\\\sin x \\\\approx x \\\\text{ when } x \\\\approx 0.\\n\\nThe coefficients for both the sine and cosine series may therefore be derived by substituting their expansions into the pythagorean and double angle identities, taking the leading coefficient for the sine to be 1, and matching the remaining coefficients.\\n\\nIn general, mathematically important relationships between the sine and cosine functions and the exponential function (see, for example, Euler\\'s formula) are substantially simplified when angles are expressed in radians, rather than in degrees, grads or other units. Therefore, in most branches of mathematics beyond practical geometry, angles are generally assumed to be expressed in radians.\\n\\nA similar series is Gregory\\'s series for arctan, which is obtained by omitting the factorials in the denominator.\\n\\n==Continued fraction==\\nThe sine function can also be represented as a generalized continued fraction:\\n\\n: \\\\sin x =\\n\\\\cfrac{x}{1 + \\\\cfrac{x^2}{2\\\\cdot3-x^2 +\\n\\\\cfrac{2\\\\cdot3 x^2}{4\\\\cdot5-x^2 +\\n\\\\cfrac{4\\\\cdot5 x^2}{6\\\\cdot7-x^2 + \\\\ddots}}}}.\\n\\nThe continued fraction representation expresses the real number values, both rational and irrational, of the sine function.\\n\\n==Fixed point==\\n\\nZero is the only real fixed point of the sine function; in other words the only intersection of the sine function and the identity function is sin(0) = 0.\\n\\n==Arc length==\\nThe arc length of the sine curve between a and b is  \\\\int_a^b\\\\!\\\\sqrt{1+\\\\cos(x)^2}\\\\, dx \\nThis integral is an elliptic integral of the second kind.\\n\\nThe arc length for a full period is \\\\frac{4\\\\sqrt{2}\\\\,\\\\pi^{3/2}}{\\\\Gamma(1/4)^2} + \\\\frac{\\\\Gamma(1/4)^2}{\\\\sqrt{2\\\\pi}}=7.640395578\\\\ldots\\nwhere \\\\Gamma is the Gamma function.\\n\\nThe arc length of the sine curve from 0 to x is the above number divided by 2\\\\pi times x, plus a correction\\nthat varies periodically in x with period \\\\pi.  The Fourier series for this correction\\ncan be written in closed form using special functions, but it is perhaps more instructive to write the decimal approximations of the Fourier coefficients.\\nThe sine curve arc length from 0 to x is\\n\\n1.21600672 \\\\,\\\\times\\\\, x \\\\,+\\\\, 0.10317093\\\\, \\\\sin(2x)-0.00220445\\\\sin(4x)+0.00012584\\\\sin(6x)-0.00001011\\\\sin(8 x)+\\\\cdots\\n\\n==Law of sines==\\n\\nThe law of sines states that for an arbitrary triangle with sides a, b, and c and angles opposite those sides A, B and C:\\n\\n:\\\\frac{\\\\sin A}{a} = \\\\frac{\\\\sin B}{b} = \\\\frac{\\\\sin C}{c}.\\n\\nThis is equivalent to the equality of the first three expressions below:\\n\\n:\\\\frac{a}{\\\\sin A} = \\\\frac{b}{\\\\sin B} = \\\\frac{c}{\\\\sin C} = 2R,\\n\\nwhere R is the triangle\\'s circumradius.\\n\\nIt can be proven by dividing the triangle into two right ones and using the above definition of sine. The law of sines is useful for computing the lengths of the unknown sides in a triangle if two angles and one side are known. This is a common situation occurring in triangulation, a technique to determine unknown distances by measuring two angles and an accessible enclosed distance.\\n\\n== Special values ==\\n\\nFor certain integral numbers x of degrees, the value of sin(x) is particularly simple.  A table of some of these values is given below.\\n{| border=\"1\" cellpadding=\"5\" cellspacing=\"0\"\\n|-----\\n! style=\"background:#ffdead;\" colspan=\"4\" | x (angle)\\n! colspan=\"2\" style=\"background:#ffdead;\" | sin x\\n|-----\\n| style=\"background:#efefef;\" align=Center | Degrees\\n| style=\"background:#efefef;\" | Radians\\n| style=\"background:#efefef;\" align=Center | Gradians\\n| style=\"background:#efefef;\" align=Center | Turns\\n| style=\"background:#efefef;\" align=Center | Exact\\n| style=\"background:#efefef;\" | Decimal\\n|-----\\n| align=Center | 0\\xc2\\xb0 || align=\"Center\" | 0\\n| align=Center | 0g\\n| align=Center | 0\\n| align=Center rowspan=2 | 0 || rowspan=2 | 0\\n|-----\\n| align=Center | 180\\xc2\\xb0 || align=Center | \\xcf\\x80\\n| align=Center | 200g\\n| align=Center | \\n|-----\\n| align=Center | 15\\xc2\\xb0\\n| align=Center | \\xcf\\x80\\n| align=Center | g\\n| align=Center | \\n| align=Center rowspan=2 | \\\\frac{\\\\sqrt{6}-\\\\sqrt{2}}{4}\\n| rowspan=2 | 0.258819045102521\\n|-----\\n| align=Center | 165\\xc2\\xb0\\n| align=Center | \\xcf\\x80\\n| align=Center | \\n| align=Center | \\n|-----\\n| align=Center | 30\\xc2\\xb0\\n| align=Center | \\xcf\\x80\\n| align=Center | \\n| align=Center | \\n| align=Center rowspan=2 | \\n| rowspan=2 | 0.5\\n|-----\\n| align=Center | 150\\xc2\\xb0\\n| align=Center | \\xcf\\x80\\n| align=Center | \\n| align=Center | \\n|-----\\n| align=Center | 45\\xc2\\xb0\\n| align=Center | \\xcf\\x80\\n| align=Center | \\n| align=Center | \\n| align=Center rowspan=2 | \\\\frac{\\\\sqrt{2}}{2}\\n| rowspan=2 | 0.707106781186548\\n|-----\\n| align=Center | 135\\xc2\\xb0\\n| align=Center | \\xcf\\x80\\n| align=Center | \\n| align=Center | \\n|-----\\n| align=Center | 60\\xc2\\xb0\\n| align=Center | \\xcf\\x80\\n| align=Center | \\n| align=Center | \\n| align=Center rowspan=2 | \\\\frac{\\\\sqrt{3}}{2}\\n| rowspan=2 | 0.866025403784439\\n|-----\\n| align=Center | 120\\xc2\\xb0\\n| align=Center | \\xcf\\x80\\n| align=Center | \\n| align=Center | \\n|-----\\n| align=Center | 75\\xc2\\xb0\\n| align=Center | \\xcf\\x80\\n| align=Center | \\n| align=Center | \\n| align=Center rowspan=2 | \\\\frac{\\\\sqrt{6}+\\\\sqrt{2}}{4}\\n| rowspan=2 | 0.965925826289068\\n|-----\\n| align=Center | 105\\xc2\\xb0\\n| align=Center | \\xcf\\x80\\n| align=Center | \\n| align=Center | \\n|-----\\n| align=Center | 90\\xc2\\xb0\\n| align=Center | \\xcf\\x80\\n| align=Center | \\n| align=Center | \\n| align=Center | 1\\n| 1\\n|}\\n\\n90 degree increments:\\n\\nOther values not listed above:\\n: \\\\sin\\\\frac{\\\\pi}{60}=\\\\sin 3^\\\\circ=\\\\frac{(2-\\\\sqrt{12})\\\\sqrt{5+\\\\sqrt5}+(\\\\sqrt{10}-\\\\sqrt2)(\\\\sqrt3+1)}{16}\\\\, \\n: \\\\sin\\\\frac{\\\\pi}{30}=\\\\sin 6^\\\\circ=\\\\frac{\\\\sqrt{30-\\\\sqrt{180}}-\\\\sqrt5-1}{8}\\\\, \\n: \\\\sin\\\\frac{\\\\pi}{20}=\\\\sin 9^\\\\circ=\\\\frac{\\\\sqrt{10}+\\\\sqrt2-\\\\sqrt{20-\\\\sqrt{80}}}{8}\\\\, \\n: \\\\sin\\\\frac{\\\\pi}{15}=\\\\sin 12^\\\\circ=\\\\frac{\\\\sqrt{10+\\\\sqrt{20}}+\\\\sqrt{3}-\\\\sqrt{15}}{8}\\\\, \\n: \\\\sin\\\\frac{\\\\pi}{10}=\\\\sin 18^\\\\circ=\\\\frac{\\\\sqrt5-1}{4}=\\\\tfrac{1}{2}\\\\varphi^{-1}\\\\, \\n: \\\\sin\\\\frac{7\\\\pi}{60}=\\\\sin 21^\\\\circ=\\\\frac{(2+\\\\sqrt{12})\\\\sqrt{5-\\\\sqrt5}-(\\\\sqrt{10}+\\\\sqrt2)(\\\\sqrt3-1)}{16}\\\\, \\n: \\\\sin\\\\frac{\\\\pi}{8}=\\\\sin 22.5^\\\\circ=\\\\frac{\\\\sqrt{2-\\\\sqrt2}}{2},\\n: \\\\sin\\\\frac{2\\\\pi}{15}=\\\\sin 24^\\\\circ=\\\\frac{\\\\sqrt3+\\\\sqrt{15}-\\\\sqrt{10-\\\\sqrt{20}}}{8}\\\\, \\n: \\\\sin\\\\frac{3\\\\pi}{20}=\\\\sin 27^\\\\circ=\\\\frac{\\\\sqrt{20+\\\\sqrt{80}}-\\\\sqrt{10}+\\\\sqrt2}{8}\\\\, \\n: \\\\sin\\\\frac{11\\\\pi}{60}=\\\\sin 33^\\\\circ=\\\\frac{(\\\\sqrt{12}-2)\\\\sqrt{5+\\\\sqrt5}+(\\\\sqrt{10}-\\\\sqrt2)(\\\\sqrt3+1)}{16}\\\\, \\n: \\\\sin\\\\frac{\\\\pi}{5}=\\\\sin 36^\\\\circ=\\\\frac{\\\\sqrt{10-\\\\sqrt{20}}}{4}\\\\, \\n: \\\\sin\\\\frac{13\\\\pi}{60}=\\\\sin 39^\\\\circ=\\\\frac{(2-\\\\sqrt{12})\\\\sqrt{5-\\\\sqrt5}+(\\\\sqrt{10}+\\\\sqrt2)(\\\\sqrt3+1)}{16}\\\\, \\n: \\\\sin\\\\frac{7\\\\pi}{30}=\\\\sin 42^\\\\circ=\\\\frac{\\\\sqrt{30+\\\\sqrt{180}}-\\\\sqrt5+1}{8}\\\\,\\n\\n==Relationship to complex numbers==\\n\\nSine is used to determine the imaginary part of a complex number given in polar coordinates (r,\\xcf\\x86):\\n\\n: z = r(\\\\cos \\\\varphi + i\\\\sin \\\\varphi )\\\\,\\n\\nthe imaginary part is:\\n\\n:\\\\operatorname{Im}(z) = r \\\\sin \\\\varphi\\n\\nr and \\xcf\\x86 represent the magnitude and angle of the complex number respectively. i is the imaginary unit. z is a complex number.\\n\\nAlthough dealing with complex numbers, sine\\'s parameter in this usage is still a real number. Sine can also take a complex number as an argument.\\n\\n===Sine with a complex argument===\\n\\nThe definition of the sine function for complex arguments z:\\n\\n: \\\\begin{align}\\n\\\\sin z \\\\u0026 = \\\\sum_{n=0}^\\\\infty \\\\frac{(-1)^{n}}{(2n+1)!}z^{2n+1} \\\\\\\\\\n\\\\u0026 = \\\\frac{e^{i z} - e^{-i z}}{2i}\\\\, \\\\\\\\\\n\\\\u0026 = \\\\frac{\\\\sinh \\\\left( i z\\\\right) }{i}\\n\\\\end{align}\\n\\nwhere i 2 = \\xe2\\x88\\x921, and sinh is hyperbolic sine. This is an entire function. Also, for purely real x,\\n\\n: \\\\sin x = \\\\operatorname{Im}(e^{i x}). \\\\,\\n\\nFor purely imaginary numbers:\\n: \\\\sin iy = i \\\\sinh y. \\\\,\\n\\nIt is also sometimes useful to express the complex sine function in terms of the real and imaginary parts of its argument:\\n\\n: \\\\begin{align}\\n\\\\sin (x + iy) \\\\u0026= \\\\sin x \\\\cos iy + \\\\cos x \\\\sin iy \\\\\\\\\\n\\\\u0026= \\\\sin x \\\\cosh y + i \\\\cos x \\\\sinh y.\\n\\\\end{align}\\n\\n==== Partial fraction and product expansions of complex sine ====\\nUsing the partial fraction expansion technique in Complex Analysis, one can find that the infinite series\\n\\n: \\\\begin{align}\\n\\\\sum_{n = -\\\\infty}^{\\\\infty}\\\\frac{(-1)^n}{z-n} = \\\\frac{1}{z} -2z \\\\sum_{n = 1}^{\\\\infty}\\\\frac{(-1)^n}{n^2-z^2}\\n\\\\end{align}\\n\\nboth converge and are equal to \\\\frac{\\\\pi}{\\\\sin \\\\pi z}.\\n\\nSimilarly we can find\\n\\n: \\\\begin{align}\\n\\\\frac{\\\\pi^2}{\\\\sin^2 \\\\pi z} = \\\\sum_{n=-\\\\infty}^\\\\infty \\\\frac{1}{(z-n)^2}.\\n\\\\end{align}\\n\\nUsing product expansion technique, one can derive\\n\\n: \\\\begin{align}\\n\\\\sin \\\\pi z = \\\\pi z \\\\prod_{n = 1}^\\\\infty \\\\Bigl( 1- \\\\frac{z^2}{n^2} \\\\Bigr).\\n\\\\end{align}\\n\\n==== Usage of complex sine ====\\nsin z is found in the functional equation for the Gamma function,\\n:\\\\Gamma(s)\\\\Gamma(1-s)={\\\\pi\\\\over\\\\sin\\\\pi s},\\n\\nwhich in turn is found in the functional equation for the Riemann zeta-function,\\n:\\\\zeta(s)=2(2\\\\pi)^{s-1}\\\\Gamma(1-s)\\\\sin(\\\\pi s/2)\\\\zeta(1-s).\\n\\nAs a holomorphic function, sin z is a 2D solution of Laplace\\'s equation:\\n:\\\\Delta u(x_1, x_2) = 0.\\n\\nIt is also related with level curves of pendulum.\\n\\n===Complex graphs===\\n\\n== History ==\\n\\nWhile the early study of trigonometry can be traced to antiquity, the trigonometric functions as they are in use today were developed in the medieval period.\\nThe chord function was discovered by Hipparchus of Nicaea (180\\xe2\\x80\\x93125 BC) and Ptolemy of Roman Egypt (90\\xe2\\x80\\x93165 AD).\\n\\nThe function sine (and cosine) can be traced to the jy\\xc4\\x81 and ko\\xe1\\xb9\\xadi-jy\\xc4\\x81  functions used in Gupta period (320 to 550 CE) Indian astronomy (Aryabhatiya, Surya Siddhanta), via translation from Sanskrit to Arabic and then from Arabic to Latin.\\n\\nThe first published use of the abbreviations \\'sin\\', \\'cos\\', and \\'tan\\' is by the 16th century French mathematician Albert Girard; these were further promulgated by Euler (see below). The Opus palatinum de triangulis of Georg Joachim Rheticus, a student of Copernicus, was probably the first in Europe to define trigonometric functions directly in terms of right triangles instead of circles, with tables for all six trigonometric functions; this work was finished by Rheticus\\' student Valentin Otho in 1596.\\n\\nIn a paper published in 1682, Leibniz proved that sin x is not an algebraic function of x. Roger Cotes computed the derivative of sine in his Harmonia Mensurarum (1722). Leonhard Euler\\'s Introductio in analysin infinitorum (1748) was mostly responsible for establishing the analytic treatment of trigonometric functions in Europe, also defining them as infinite series and presenting \"Euler\\'s formula\", as well as the near-modern abbreviations sin., cos., tang., cot., sec., and cosec.\\n\\n=== Etymology ===\\n\\nEtymologically, the word sine derives from the Sanskrit word for chord, jiva*(jya being its more popular synonym). This was transliterated in Arabic as jiba \\xd8\\xac\\xd9\\x80\\xd9\\x80\\xd9\\x8a\\xd9\\x80\\xd9\\x80\\xd8\\xa8, abbreviated jb \\xd8\\xac\\xd9\\x80\\xd9\\x80\\xd9\\x80\\xd9\\x80\\xd8\\xa8 . Since Arabic is written without short vowels, \"jb\" was interpreted as the word jaib \\xd8\\xac\\xd9\\x80\\xd9\\x80\\xd9\\x8a\\xd9\\x80\\xd9\\x80\\xd8\\xa8, which means \"bosom\", when the Arabic text was translated in the 12th century into Latin by Gerard of Cremona. The translator used the Latin equivalent for \"bosom\", sinus (which means \"bosom\" or \"bay\" or \"fold\"). The English form sine was introduced in the 1590s.\\n\\n== Software implementations ==\\n\\nThe sine function, along with other trigonometric functions, is widely available across programming languages and platforms. In computing, it is typically abbreviated to sin.\\n\\nSome CPU architectures have a built-in instruction for sine, including the Intel x87 FPUs since the 80387.\\n\\nIn programming languages, sin is typically either a built-in function or found within the language\\'s standard math library.\\n\\nFor example, the C standard library defines sine functions within math.h: sin(double), sinf(float), and sinl(long double). The parameter of each is a floating point value, specifying the angle in radians. Each function returns the same data type as it accepts. Many other trigonometric functions are also defined in math.h, such as for cosine, arc sine, and hyperbolic sine (sinh).\\n\\nSimilarly, Python, defines math.sin(x) within the built-in math module. Complex sine functions are also available within the cmath module, e.g. cmath.sin(z). CPython\\'s math functions call the C math library, and use a double-precision floating-point format.\\n\\nThere is no standard algorithm for calculating sine. IEEE 754-2008, the most widely used standard for floating-point computation, does not address calculating trigonometric functions such as sine. Algorithms for calculating sine may be balanced for such constraints as speed, accuracy, portability, or range of input values accepted. This can lead to different results for different algorithms, especially for special circumstances such as very large inputs, e.g. sin(10).\\n\\nA once common programming optimization, used especially in 3D graphics, was to pre-calculate a table of sine values, for example one value per degree. This allowed results to be looked up from a table rather than being calculated in real time. With modern CPU architectures this method may offer no advantage.\\n\\n== See also ==\\n* \\xc4\\x80ryabha\\xe1\\xb9\\xada\\'s sine table\\n* Bhaskara I\\'s sine approximation formula\\n* Discrete sine transform\\n* Euler\\'s formula\\n* Generalized trigonometry\\n* Hyperbolic function\\n* Law of sines\\n* List of periodic functions\\n* List of trigonometric identities\\n* Madhava series\\n* Madhava\\'s sine table\\n* Optical sine theorem\\n* Polar sine \\xe2\\x80\\x94 a generalization to vertex angles\\n* Proofs of trigonometric identities\\n* Sine and cosine transforms\\n* Sine quadrant\\n* Sine wave\\n* Sine\\xe2\\x80\\x93Gordon equation\\n* Sinusoidal model\\n* Trigonometric functions\\n* Trigonometry in Galois fields\\n\\n== References ==\\n\\n== External links ==\\n*\\n\\nno:Trigonometriske funksjoner#Sinus, cosinus og tangens',\n",
       "   'name': 'article'},\n",
       "  {'content-type': 'text/plain',\n",
       "   'data': 'Part of test document pure text.',\n",
       "   'name': 'Text part'}],\n",
       " 'user_fields': {'myField1': 'my meta-data'}}"
      ]
     },
     "execution_count": 110,
     "metadata": {},
     "output_type": "execute_result"
    }
   ],
   "source": [
    "subject = \"Sine\"\n",
    "url = 'https://gateway.watsonplatform.net/concept-insights/api/v2/corpora/liet4blerinu2/math_corp/documents/' + subject\n",
    "r = requests.get(url,auth=auth)\n",
    "\n",
    "print (r.status_code)\n",
    "\n",
    "ast.literal_eval(r.content)"
   ]
  },
  {
   "cell_type": "markdown",
   "metadata": {},
   "source": [
    "###Delete document from corpus by id"
   ]
  },
  {
   "cell_type": "code",
   "execution_count": 29,
   "metadata": {
    "collapsed": true
   },
   "outputs": [],
   "source": [
    "# DELETE /v2/corpora/{account_id}/{corpus}/documents/{document}\n",
    "\n",
    "! curl -u \"82a698f0-8d8c-42f9-9c7d-1e4b97eebd52\":'50KJG6jdgZ6h'\\\n",
    "       -X DELETE 'https://gateway.watsonplatform.net/concept-insights/api/v2/corpora/liet4blerinu2/math_corp/documents/testDocument'"
   ]
  },
  {
   "cell_type": "markdown",
   "metadata": {},
   "source": [
    "###Stats on concepts present in corpora "
   ]
  },
  {
   "cell_type": "code",
   "execution_count": 80,
   "metadata": {
    "collapsed": false
   },
   "outputs": [
    {
     "data": {
      "text/plain": [
       "200"
      ]
     },
     "execution_count": 80,
     "metadata": {},
     "output_type": "execute_result"
    }
   ],
   "source": [
    "# GET /v2/corpora/{account_id}/{corpus}/stats\n",
    "url = 'https://gateway.watsonplatform.net/concept-insights/api/v2/corpora/liet4blerinu2/math_corp/stats'\n",
    "r = requests.get(url,auth=auth)\n",
    "r.status_code"
   ]
  },
  {
   "cell_type": "code",
   "execution_count": 6,
   "metadata": {
    "collapsed": false
   },
   "outputs": [],
   "source": [
    "# stats on concepts present in corpora \n",
    "ast.literal_eval(r.content)"
   ]
  },
  {
   "cell_type": "markdown",
   "metadata": {},
   "source": [
    "###Get Graph id "
   ]
  },
  {
   "cell_type": "code",
   "execution_count": 10,
   "metadata": {
    "collapsed": false
   },
   "outputs": [
    {
     "data": {
      "text/plain": [
       "200"
      ]
     },
     "execution_count": 10,
     "metadata": {},
     "output_type": "execute_result"
    }
   ],
   "source": [
    "url = 'https://gateway.watsonplatform.net/concept-insights/api/v2/graphs'\n",
    "#url = \"https://watson-api-explorer.mybluemix.net/concept-insights/api/v2/graphs\"\n",
    "r = requests.get(url ,auth=auth)\n",
    "r.status_code"
   ]
  },
  {
   "cell_type": "code",
   "execution_count": 11,
   "metadata": {
    "collapsed": false
   },
   "outputs": [
    {
     "data": {
      "text/plain": [
       "{'graphs': ['/graphs/wikipedia/en-20120601', '/graphs/wikipedia/en-latest']}"
      ]
     },
     "execution_count": 11,
     "metadata": {},
     "output_type": "execute_result"
    }
   ],
   "source": [
    "ast.literal_eval(r.content)"
   ]
  },
  {
   "cell_type": "code",
   "execution_count": 12,
   "metadata": {
    "collapsed": false
   },
   "outputs": [],
   "source": [
    "graph = ast.literal_eval(r.content).values()[0][0]"
   ]
  },
  {
   "cell_type": "markdown",
   "metadata": {},
   "source": [
    "###Label Search"
   ]
  },
  {
   "cell_type": "code",
   "execution_count": 96,
   "metadata": {
    "collapsed": false
   },
   "outputs": [
    {
     "name": "stdout",
     "output_type": "stream",
     "text": [
      "curl: no URL specified!\r\n",
      "curl: try 'curl --help' or 'curl --manual' for more information\r\n"
     ]
    }
   ],
   "source": [
    "# GET /v2/graphs/{account_id}/{graph}/label_search\n",
    "!curl -u '82a698f0-8d8c-42f9-9c7d-1e4b97eebd52':'50KJG6jdgZ6h''https://gateway.watsonplatform.net/concept-insights/api/v2/graphs/liet4blerinu2/wikipedia/en-latest/label_search?query=math'"
   ]
  },
  {
   "cell_type": "code",
   "execution_count": 95,
   "metadata": {
    "collapsed": false
   },
   "outputs": [
    {
     "data": {
      "text/plain": [
       "200"
      ]
     },
     "execution_count": 95,
     "metadata": {},
     "output_type": "execute_result"
    }
   ],
   "source": [
    "url = 'https://gateway.watsonplatform.net/concept-insights/api'+\\\n",
    " '/v2/graphs/wikipedia/en-20120601/label_search?query=quadratic'\n",
    "r = requests.get(url ,auth=auth)\n",
    "r.status_code"
   ]
  },
  {
   "cell_type": "code",
   "execution_count": 195,
   "metadata": {
    "collapsed": false
   },
   "outputs": [
    {
     "data": {
      "text/plain": [
       "{'matches': [{'id': '/graphs/wikipedia/en-20120601/concepts/Quadratic',\n",
       "   'label': 'Quadratic'}]}"
      ]
     },
     "execution_count": 195,
     "metadata": {},
     "output_type": "execute_result"
    }
   ],
   "source": [
    "ast.literal_eval(r.content)"
   ]
  },
  {
   "cell_type": "code",
   "execution_count": 158,
   "metadata": {
    "collapsed": false
   },
   "outputs": [
    {
     "data": {
      "text/plain": [
       "400"
      ]
     },
     "execution_count": 158,
     "metadata": {},
     "output_type": "execute_result"
    }
   ],
   "source": [
    "#GET /v2/corpora/{account_id}/{corpus}/conceptual_search\n",
    "url = 'https://gateway.watsonplatform.net/concept-insights/api'+\\\n",
    " '/v2/corpora/liet4blerinu2/math_corp/conceptual_search?concept_fields=[\"sine\"]'\n",
    "r  = requests.get(url, auth=auth)\n",
    "r.status_code"
   ]
  },
  {
   "cell_type": "code",
   "execution_count": 159,
   "metadata": {
    "collapsed": false
   },
   "outputs": [
    {
     "data": {
      "text/plain": [
       "'{\"error\":\"missing ids parameter\",\"url\":\"/api/v2/corpora/liet4blerinu2/math_corp/conceptual_search\"}\\n'"
      ]
     },
     "execution_count": 159,
     "metadata": {},
     "output_type": "execute_result"
    }
   ],
   "source": [
    "r.content #\"/graphs/wikipedia/en-20120601/concepts/Slope"
   ]
  },
  {
   "cell_type": "markdown",
   "metadata": {},
   "source": [
    "###Concepts related to a specific article"
   ]
  },
  {
   "cell_type": "code",
   "execution_count": 63,
   "metadata": {
    "collapsed": false
   },
   "outputs": [
    {
     "data": {
      "text/plain": [
       "400"
      ]
     },
     "execution_count": 63,
     "metadata": {},
     "output_type": "execute_result"
    }
   ],
   "source": [
    "#GET /v2/corpora/{account_id}/{corpus}/documents/{document}\n",
    "# Calculus\n",
    "q = 'Geometry'\n",
    "#url = 'https://gateway.watsonplatform.net/concept-insights/api'+\\\n",
    " #     '/v2/corpora/liet4blerinu2/math_corp/documents/' + q + '/related_concepts'\n",
    "    \n",
    "url = 'https://gateway.watsonplatform.net/concept-insights/api'+\\\n",
    "      '/v2/corpora/liet4blerinu2/math_corp/documents/' + q +'/related_concepts'\n",
    "\n",
    "r  = requests.get(url, auth=auth)\n",
    "r.status_code"
   ]
  },
  {
   "cell_type": "code",
   "execution_count": 58,
   "metadata": {
    "collapsed": true
   },
   "outputs": [
    {
     "data": {
      "text/plain": [
       "{'id': '/corpora/liet4blerinu2/math_corp/documents/Geometry',\n",
       " 'label': 'Geometry',\n",
       " 'last_modified': '2015-12-10T10:07:53.38Z',\n",
       " 'parts': [{'content-type': 'text',\n",
       "   'data': 'Geometry (from the \\xce\\xb3\\xce\\xb5\\xcf\\x89\\xce\\xbc\\xce\\xb5\\xcf\\x84\\xcf\\x81\\xce\\xaf\\xce\\xb1; geo- \"earth\", -metron \"measurement\") is a branch of mathematics concerned with questions of shape, size, relative position of figures, and the properties of space. A mathematician who works in the field of geometry is called a geometer. Geometry arose independently in a number of early cultures as a body of practical knowledge concerning lengths, areas, and volumes, with elements of formal mathematical science emerging in the West as early as Thales (6th century BC).  By the 3rd century BC, geometry was put into an axiomatic form by Euclid, whose treatment\\xe2\\x80\\x94Euclidean geometry\\xe2\\x80\\x94set a standard for many centuries to follow. Archimedes developed ingenious techniques for calculating areas and volumes, in many ways anticipating modern integral calculus. The field of astronomy, especially as it relates to mapping the positions of stars and planets on the celestial sphere and describing the relationship between movements of celestial bodies, served as an important source of geometric problems during the next one and a half millennia. In the classical world, both geometry and astronomy were considered to be part of the Quadrivium, a subset of the seven liberal arts considered essential for a free citizen to master.\\n\\nThe introduction of coordinates by Ren\\xc3\\xa9 Descartes and the concurrent developments of algebra marked a new stage for geometry, since geometric figures such as plane curves could now be represented analytically in the form of functions and equations. This played a key role in the emergence of infinitesimal calculus in the 17th century. Furthermore, the theory of perspective showed that there is more to geometry than just the metric properties of figures: perspective is the origin of projective geometry. The subject of geometry was further enriched by the study of the intrinsic structure of geometric objects that originated with Euler and Gauss and led to the creation of topology and differential geometry.\\n\\nIn Euclid\\'s time, there was no clear distinction between physical and geometrical space. Since the 19th-century discovery of non-Euclidean geometry, the concept of space has undergone a radical transformation and raised the question of which geometrical space best fits physical space.\\nWith the rise of formal mathematics in the 20th century, \\'space\\' (whether \\'point\\', \\'line\\', or \\'plane\\') lost its intuitive contents, so today one has to distinguish between physical space, geometrical spaces (in which \\'space\\', \\'point\\' etc. still have their intuitive meanings) and abstract spaces.\\nContemporary geometry considers manifolds, spaces that are considerably more abstract than the familiar Euclidean space, which they only approximately resemble at small scales. These spaces may be endowed with additional structure which allow one to speak about length. Modern geometry has many ties to physics as is exemplified by the links between pseudo-Riemannian geometry and general relativity. One of the youngest physical theories, string theory, is also very geometric in flavour.\\n\\nWhile the visual nature of geometry makes it initially more accessible than other mathematical areas such as algebra or number theory, geometric language is also used in contexts far removed from its traditional, Euclidean provenance (for example, in fractal geometry and algebraic geometry).\\n\\n==Overview==\\n\\nBecause the recorded development of geometry spans more than two millennia, perceptions of what constitutes geometry have evolved throughout the ages:\\n\\n===Practical geometry===\\nGeometry originated as a practical science concerned with surveys, measurements, areas, and volumes. Among other highlights, notable accomplishments include formulas for  lengths, areas and volumes, such as the Pythagorean theorem, circumference and area of a circle, area of a triangle, volume of a cylinder, sphere, and a pyramid. A method of computing certain inaccessible distances or heights based on similarity of geometric figures is attributed to Thales. The development of astronomy led to the emergence of trigonometry and spherical trigonometry, together with the attendant computational techniques.\\n\\n===Axiomatic geometry===\\n\\nEuclid took a more abstract approach in his Elements, one of the most influential books ever written. Euclid introduced certain axioms, or postulates, expressing primary or self-evident properties of points, lines, and planes. He proceeded to rigorously deduce other properties by mathematical reasoning. The characteristic feature of Euclid\\'s approach to geometry was its rigor, and it has come to be known as axiomatic or synthetic geometry. At the start of the 19th century, the discovery of non-Euclidean geometries by Nikolai Ivanovich Lobachevsky (1792\\xe2\\x80\\x931856), J\\xc3\\xa1nos Bolyai (1802\\xe2\\x80\\x931860) and Carl Friedrich Gauss (1777\\xe2\\x80\\x931855) and others led to a revival of interest in this discipline, and in the 20th century, David Hilbert (1862\\xe2\\x80\\x931943) employed axiomatic reasoning in an attempt to provide a modern foundation of geometry.\\n\\n===Geometric constructions===\\n\\nClassical geometers paid special attention to constructing geometric objects that had been described in some other way. Classically, the only instruments allowed in geometric constructions are the compass and straightedge. Also, every construction had to be complete in a finite number of steps. However, some problems turned out to be difficult or impossible to solve by these means alone, and ingenious constructions using parabolas and other curves, as well as mechanical devices, were found.\\n\\n===Numbers in geometry===\\nSquare root of 2 triangle.svg|thumb|right|200px|The Pythagoreans discovered that the sides of a  triangle could have incommensurable lengths.\\nIn ancient Greece the Pythagoreans considered the role of numbers in geometry. However, the discovery of incommensurable lengths, which contradicted their philosophical views, made them abandon abstract numbers in favor of concrete geometric quantities, such as length and area of figures. Numbers were reintroduced into geometry in the form of coordinates by Descartes, who realized that the study of geometric shapes can be facilitated by their algebraic representation, and for whom the Cartesian plane is named. Analytic geometry applies methods of algebra to geometric questions, typically by relating geometric curves to algebraic equations. These ideas played a key role in the development of calculus in the 17th century and led to the discovery of many new properties of plane curves. Modern algebraic geometry considers similar questions on a vastly more abstract level.\\n\\n===Geometry of position===\\n\\nEven in ancient times, geometers considered questions of relative position or spatial relationship of geometric figures and shapes. Some examples are given by inscribed and circumscribed circles of polygons, lines intersecting and tangent to conic sections, the Pappus and Menelaus configurations of points and lines. In the Middle Ages, new and more complicated questions of this type were considered: What is the maximum number of spheres simultaneously touching a given sphere of the same radius (kissing number problem)? What is the densest packing of spheres of equal size in space (Kepler conjecture)? Most of these questions involved \\'rigid\\' geometrical shapes, such as lines or spheres. Projective, convex, and discrete geometry are three sub-disciplines within present day geometry that deal with these types of questions.\\n\\nLeonhard Euler, in studying problems like the Seven Bridges of K\\xc3\\xb6nigsberg, considered the most fundamental properties of geometric figures based solely on shape, independent of their metric properties. Euler called this new branch of geometry geometria situs (geometry of place), but it is now known as topology. Topology grew out of geometry, but turned into a large independent discipline. It does not differentiate between objects that can be continuously deformed into each other. The objects may nevertheless retain some geometry, as in the case of hyperbolic knots.\\n\\n===Geometry beyond Euclid===\\n\\nIn the nearly two thousand years since Euclid, while the range of geometrical questions asked and answered inevitably expanded, the basic understanding of space remained essentially the same. Immanuel Kant argued that there is only one, absolute, geometry, which is known to be true a priori by an inner faculty of mind: Euclidean geometry was synthetic a priori.  This dominant view was overturned by the revolutionary discovery of non-Euclidean geometry in the works of Bolyai, Lobachevsky, and Gauss (who never published his theory). They demonstrated that ordinary Euclidean space is only one possibility for development of geometry. A broad vision of the subject of geometry was then expressed  by Riemann in his 1867 inauguration lecture \\xc3\\x9cber die Hypothesen, welche der Geometrie zu Grunde liegen (On the hypotheses on which geometry is based), published only after his death. Riemann\\'s new idea of space proved crucial in Einstein\\'s general relativity theory, and Riemannian geometry, that considers very general spaces in which the notion of length is defined, is a mainstay of modern geometry.\\n\\n===Dimension===\\n\\nWhere the traditional geometry allowed dimensions 1 (a line), 2 (a plane) and 3 (our ambient world conceived of as three-dimensional space), mathematicians have used higher dimensions for nearly two centuries. Dimension has gone through stages of being any natural number n, possibly infinite with the introduction of Hilbert space, and any positive real number in fractal geometry. Dimension theory is a technical area, initially within general topology, that discusses definitions; in common with most mathematical ideas, dimension is now defined rather than an intuition. Connected topological manifolds have a well-defined dimension; this is a theorem (invariance of domain) rather than anything a priori.\\n\\nThe issue of dimension still matters to geometry, in the absence of complete answers to classic questions. Dimensions 3 of space and 4 of space-time are special cases in geometric topology. Dimension 10 or 11 is a key number in string theory. Research may bring a satisfactory geometric reason for the significance of 10 and 11 dimensions.\\n\\n===Symmetry===\\nOrder-3 heptakis heptagonal tiling.png|right|thumb|A tiling of the hyperbolic plane\\nThe theme of symmetry in geometry is nearly as old as the science of geometry itself. Symmetric shapes such as the circle, regular polygons and platonic solids held deep significance for many ancient philosophers and were investigated in detail before the time of Euclid. Symmetric patterns occur in nature and were artistically rendered in a multitude of forms, including the graphics of M. C. Escher. Nonetheless, it was not until the second half of 19th century that the unifying role of symmetry in foundations of geometry was recognized. Felix Klein\\'s Erlangen program proclaimed that, in a very precise sense, symmetry, expressed via the notion of a transformation group, determines what geometry is. Symmetry in classical Euclidean geometry is represented by congruences and rigid motions, whereas in projective geometry an analogous role is played by collineations, geometric transformations that take straight lines into straight lines. However it was in the new geometries of Bolyai and Lobachevsky, Riemann, Clifford and Klein, and Sophus Lie that Klein\\'s idea to \\'define a geometry via its symmetry group\\' proved most influential. Both discrete and continuous symmetries play prominent roles in geometry, the former in topology and geometric group theory, the latter in Lie theory and Riemannian geometry.\\n\\nA different type of symmetry is the principle of duality in projective geometry (see Duality (projective geometry)) among other fields. This meta-phenomenon can roughly be described as follows: in any theorem, exchange point with plane, join with meet, lies in with contains, and you will get an equally true theorem. A similar and closely related form of duality exists between a vector space and its dual space.\\n\\n==History==\\n\\nThe earliest recorded beginnings of geometry can be traced to ancient Mesopotamia and Egypt in the 2nd millennium BC. Early geometry was a collection of empirically discovered principles concerning lengths, angles, areas, and volumes, which were developed to meet some practical need in surveying, construction, astronomy, and various crafts. The earliest known texts on geometry are the Egyptian Rhind Papyrus (2000\\xe2\\x80\\x931800 BC) and Moscow Papyrus (c. 1890 BC), the Babylonian clay tablets such as Plimpton 322 (1900 BC). For example, the Moscow Papyrus gives a formula for calculating the volume of a truncated pyramid, or frustum. South of Egypt the ancient Nubians established a system of geometry including early versions of sun clocks.\\n\\nIn the 7th century BC, the Greek mathematician Thales of Miletus used geometry to solve problems such as calculating the height of pyramids and the distance of ships from the shore.  He is credited with the first use of deductive reasoning applied to geometry, by deriving four corollaries to Thales\\' Theorem.  Pythagoras established the Pythagorean School, which is credited with the first proof of the Pythagorean theorem,  though the statement of the theorem has a long history Eudoxus (408\\xe2\\x80\\x93c. 355 BC) developed the method of exhaustion, which allowed the calculation of areas and volumes of curvilinear figures, as well as a theory of ratios that avoided the problem of incommensurable magnitudes, which enabled subsequent geometers to make significant advances. Around 300 BC, geometry was revolutionized by Euclid, whose Elements, widely considered the most successful and influential textbook of all time, introduced mathematical rigor through the axiomatic method and is the earliest example of the format still used in mathematics today, that of definition, axiom, theorem, and proof. Although most of the contents of the Elements were already known, Euclid arranged them into a single, coherent logical framework. The Elements was known to all educated people in the West until the middle of the 20th century and its contents are still taught in geometry classes today. Archimedes (c. 287\\xe2\\x80\\x93212 BC) of Syracuse used the method of exhaustion to calculate the area under the arc of a parabola with the summation of an infinite series, and gave remarkably accurate approximations of Pi. He also studied the spiral bearing his name and obtained formulas for the volumes of surfaces of revolution.\\n\\nIndian mathematicians also made many important contributions in geometry. The Satapatha Brahmana (9th century BC) contains rules for ritual geometric constructions that are similar to the Sulba Sutras. According to , the \\xc5\\x9aulba S\\xc5\\xabtras contain \"the earliest extant verbal expression of the Pythagorean Theorem in the world, although it had already been known to the Old Babylonians. They contain lists of Pythagorean triples,Pythagorean triples are triples of integers  (a,b,c)  with the property: a^2+b^2=c^2. Thus, 3^2+4^2=5^2, 8^2+15^2=17^2, 12^2+35^2=37^2 etc. which are particular cases of Diophantine equations.\\nIn the Bakhshali manuscript, there is a handful of geometric problems (including problems about volumes of irregular solids). The Bakhshali manuscript also \"employs a decimal place value system with a dot for zero.\" Aryabhata\\'s Aryabhatiya (499) includes the computation of areas and volumes.\\nBrahmagupta wrote his astronomical work  in 628. Chapter 12, containing 66 Sanskrit verses, was divided into two sections: \"basic operations\" (including cube roots, fractions, ratio and proportion, and barter) and \"practical mathematics\" (including mixture, mathematical series, plane figures, stacking bricks, sawing of timber, and piling of grain). In the latter section, he stated his famous theorem on the diagonals of a cyclic quadrilateral. Chapter 12 also included a formula for the area of a cyclic quadrilateral (a generalization of Heron\\'s formula), as well as a complete description of rational triangles (i.e. triangles with rational sides and rational areas).\\n\\nIn the Middle Ages, mathematics in medieval Islam contributed to the development of geometry, especially algebraic geometry and geometric algebra. Al-Mahani (b. 853) conceived the idea of reducing geometrical problems such as duplicating the cube to problems in algebra. Th\\xc4\\x81bit ibn Qurra (known as Thebit in Latin) (836\\xe2\\x80\\x93901) dealt with arithmetic operations applied to ratios of geometrical quantities, and contributed to the development of analytic geometry. Omar Khayy\\xc3\\xa1m (1048\\xe2\\x80\\x931131) found geometric solutions to cubic equations.  The theorems of Ibn al-Haytham (Alhazen), Omar Khayyam and Nasir al-Din al-Tusi on quadrilaterals, including the Lambert quadrilateral and Saccheri quadrilateral, were early results in hyperbolic geometry, and along with their alternative postulates, such as Playfair\\'s axiom, these works had a considerable influence on the development of non-Euclidean geometry among later European geometers, including Witelo (c. 1230\\xe2\\x80\\x93c. 1314), Gersonides (1288\\xe2\\x80\\x931344), Alfonso, John Wallis, and Giovanni Girolamo Saccheri.\\n\\nIn the early 17th century, there were two important developments in geometry. The first was the creation of analytic geometry, or geometry with coordinates and equations, by Ren\\xc3\\xa9 Descartes (1596\\xe2\\x80\\x931650) and Pierre de Fermat (1601\\xe2\\x80\\x931665). This was a necessary precursor to the development of calculus and a precise quantitative science of physics. The second geometric development of this period was the systematic study of projective geometry by Girard Desargues (1591\\xe2\\x80\\x931661). Projective geometry is a geometry without measurement or parallel lines, just the study of how points are related to each other.\\n\\nTwo developments in geometry in the 19th century changed the way it had been studied previously. These were the discovery of non-Euclidean geometries by Nikolai Ivanovich Lobachevsky, J\\xc3\\xa1nos Bolyai and Carl Friedrich Gauss and of the formulation of symmetry as the central consideration in the Erlangen Programme of Felix Klein (which generalized the Euclidean and non-Euclidean geometries). Two of the master geometers of the time were Bernhard Riemann (1826\\xe2\\x80\\x931866), working primarily with tools from mathematical analysis, and introducing the Riemann surface, and Henri Poincar\\xc3\\xa9, the founder of algebraic topology and the geometric theory of dynamical systems. As a consequence of these major changes in the conception of geometry, the concept of \"space\" became something rich and varied, and the natural background for theories as different as complex analysis and classical mechanics.\\n\\n==Contemporary geometry==\\n\\n===Euclidean geometry===\\n\\nEuclidean geometry has become closely connected with computational geometry, computer graphics, convex geometry, incidence geometry, finite geometry, discrete geometry, and some areas of combinatorics. Attention was given to further work on Euclidean geometry and the Euclidean groups by crystallography and the work of H. S. M. Coxeter, and can be seen in theories of Coxeter groups and polytopes. Geometric group theory is an expanding area of the theory of more general discrete groups, drawing on geometric models and algebraic techniques.\\n\\n===Differential geometry===\\nDifferential geometry has been of increasing importance to mathematical physics due to Einstein\\'s general relativity postulation that the universe is curved. Contemporary differential geometry is intrinsic, meaning that the spaces it considers are smooth manifolds whose geometric structure is governed by a Riemannian metric, which determines how distances are measured near each point, and not a priori parts of some ambient flat Euclidean space.\\n\\n===Topology and geometry===\\n\\nThe field of topology, which saw massive development in the 20th century, is in a technical sense a type of transformation geometry, in which transformations are homeomorphisms. This has often been expressed in the form of the dictum \\'topology is rubber-sheet geometry\\'. Contemporary geometric topology and differential topology, and particular subfields such as Morse theory, would be counted by most mathematicians as part of geometry. Algebraic topology and general topology have gone their own ways.\\n\\n===Algebraic geometry===\\nCalabi yau.jpg|thumb|120px|Quintic Calabi\\xe2\\x80\\x93Yau threefold\\nThe field of algebraic geometry is the modern incarnation of the Cartesian geometry of co-ordinates. From late 1950s through mid-1970s it had undergone major foundational development, largely due to work of Jean-Pierre Serre and Alexander Grothendieck. This led to the introduction of schemes and greater emphasis on topological methods, including various cohomology theories. One of seven Millennium Prize problems, the Hodge conjecture, is a question in algebraic geometry.\\n\\nThe study of low-dimensional algebraic varieties, algebraic curves, algebraic surfaces and algebraic varieties of dimension 3 (\"algebraic threefolds\"), has been far advanced. Gr\\xc3\\xb6bner basis theory and real algebraic geometry are among more applied subfields of modern algebraic geometry. Arithmetic geometry is an active field combining algebraic geometry and number theory. Other directions of research involve moduli spaces and complex geometry. Algebro-geometric methods are commonly applied in string and brane  theory.\\n\\n==See also==\\n\\n===Lists===\\n* List of geometers\\n** :Category:Algebraic geometers\\n** :Category:Differential geometers\\n** :Category:Geometers\\n** :Category:Topologists\\n* List of formulas in elementary geometry\\n* List of geometry topics\\n* List of important publications in geometry\\n* List of mathematics articles\\n\\n===Related topics===\\n* Descriptive geometry\\n* Flatland, a book written by Edwin Abbott Abbott about two- and three-dimensional space, to understand the concept of four dimensions\\n* Interactive geometry software\\n\\n===Other fields===\\n* Molecular geometry\\n\\n==Notes==\\n\\n==Sources==\\n* \\n* Nikolai I. Lobachevsky, Pangeometry, translator and editor: A. Papadopoulos,  Heritage of European Mathematics Series, Vol. 4, European Mathematical Society, 2010.\\n\\n==Further reading==\\n* Jay Kappraff, A Participatory Approach to Modern Geometry, 2014, World Scientific Publishing, ISBN 978-981-4556-70-5.\\n* Leonard Mlodinow, Euclid\\'s Window \\xe2\\x80\\x93 The Story of Geometry from Parallel Lines to Hyperspace, UK edn. Allen Lane, 1992.\\n\\n==External links==\\n\\n* A geometry course from Wikiversity\\n* Unusual Geometry Problems\\n* The Math Forum \\xe2\\x80\\x94 Geometry\\n** The Math Forum \\xe2\\x80\\x94 K\\xe2\\x80\\x9312 Geometry\\n** The Math Forum \\xe2\\x80\\x94 College Geometry\\n** The Math Forum \\xe2\\x80\\x94 Advanced Geometry\\n* Nature Precedings \\xe2\\x80\\x94 Pegs and Ropes Geometry at Stonehenge\\n* The Mathematical Atlas \\xe2\\x80\\x94 Geometric Areas of Mathematics\\n* \"4000 Years of Geometry\", lecture by Robin Wilson given at Gresham College, 3 October 2007 (available for MP3 and MP4 download as well as a text file)\\n** Finitism in Geometry at the Stanford Encyclopedia of Philosophy\\n* The Geometry Junkyard\\n* Interactive geometry reference with hundreds of applets\\n* Dynamic Geometry Sketches (with some Student Explorations)\\n* Geometry classes at Khan Academy',\n",
       "   'name': 'article'},\n",
       "  {'content-type': 'text/plain',\n",
       "   'data': 'Part of test document pure text.',\n",
       "   'name': 'Text part'}],\n",
       " 'user_fields': {'myField1': 'my meta-data'}}"
      ]
     },
     "execution_count": 58,
     "metadata": {},
     "output_type": "execute_result"
    }
   ],
   "source": [
    "ast.literal_eval(r.content)"
   ]
  },
  {
   "cell_type": "code",
   "execution_count": 8,
   "metadata": {
    "collapsed": false
   },
   "outputs": [
    {
     "data": {
      "text/plain": [
       "400"
      ]
     },
     "execution_count": 8,
     "metadata": {},
     "output_type": "execute_result"
    }
   ],
   "source": [
    "url = 'https://gateway.watsonplatform.net/concept-insights/api'+\\\n",
    "      '/v2/corpora/liet4blerinu2/math_corp/documents/Geometry/related_concepts'\n",
    "r  = requests.get(url, auth=auth)\n",
    "r.status_code"
   ]
  },
  {
   "cell_type": "code",
   "execution_count": 9,
   "metadata": {
    "collapsed": false,
    "scrolled": true
   },
   "outputs": [
    {
     "data": {
      "text/plain": [
       "{'error': 'document not ready for querying: document empty or still processing',\n",
       " 'url': '/api/v2/corpora/liet4blerinu2/math_corp/documents/Geometry/related_concepts'}"
      ]
     },
     "execution_count": 9,
     "metadata": {},
     "output_type": "execute_result"
    }
   ],
   "source": [
    "ast.literal_eval(r.content)"
   ]
  },
  {
   "cell_type": "markdown",
   "metadata": {},
   "source": [
    "##How Related is Radian (Concept) to Calculus (Document)"
   ]
  },
  {
   "cell_type": "code",
   "execution_count": 97,
   "metadata": {
    "collapsed": false
   },
   "outputs": [
    {
     "data": {
      "text/plain": [
       "200"
      ]
     },
     "execution_count": 97,
     "metadata": {},
     "output_type": "execute_result"
    }
   ],
   "source": [
    "# GET /v2/corpora/{account_id}/{corpus}/documents/{document}/relation_scores\n",
    "# concept used has to be present in the concept graph -- otherwise error will be given\n",
    "concept = \"/graphs/wikipedia/en-20120601/concepts/holomorphic embedding\"\n",
    "\n",
    "url = 'https://gateway.watsonplatform.net/concept-insights/api'+\\\n",
    "      '/v2/corpora/liet4blerinu2/math_corp/documents/Complex%20manifold/'+\\\n",
    "      'relation_scores?concepts=[\"/graphs/wikipedia/en-20120601/concepts/\"]'\n",
    "        \n",
    "r  = requests.get(url, auth=auth)\n",
    "r.status_code"
   ]
  },
  {
   "cell_type": "code",
   "execution_count": 98,
   "metadata": {
    "collapsed": false
   },
   "outputs": [
    {
     "data": {
      "text/plain": [
       "{'scores': [{'concept': '/graphs/wikipedia/en-20120601/concepts/',\n",
       "   'score': 0.5}]}"
      ]
     },
     "execution_count": 98,
     "metadata": {},
     "output_type": "execute_result"
    }
   ],
   "source": [
    "ast.literal_eval(r.content) # \"/graphs/wikipedia/en-20120601/concepts/Radian\""
   ]
  },
  {
   "cell_type": "markdown",
   "metadata": {},
   "source": [
    "##Build Smart Cards Data Pipeline"
   ]
  },
  {
   "cell_type": "markdown",
   "metadata": {},
   "source": [
    "##CI will extract concepts from block of text - but contains False Negatives "
   ]
  },
  {
   "cell_type": "code",
   "execution_count": 13,
   "metadata": {
    "collapsed": false
   },
   "outputs": [],
   "source": [
    "text = '''Mathematics 117, Trigonometry, helps students develop skills sufficiently to write and\n",
    "use the definition of trigonometric functions; sketch the graph of the trigonometric\n",
    "functions; prove identities; solve trigonometric equations; learn and then apply the law\n",
    "of the sines and cosines; learn how to write a complex number in trigonometric form\n",
    "and find all the roots of a complex number; learn polar coordinates system and the\n",
    "graphs of some simple equations in polar; learn about conic sections (rectangular &\n",
    "polar), vector (applications & operations), and the exponential and logarithmic\n",
    "functions with applications and modeling. A calculator is required.\n",
    "- Applicable toward graduation where program structure permits:\n",
    "- Certificate or Degree - All Certificates and All Degrees\n",
    "- Group Requirement - Mathematics (A.A.S. only)\n",
    "- Area of Concentration - Mathematics '''"
   ]
  },
  {
   "cell_type": "code",
   "execution_count": 104,
   "metadata": {
    "collapsed": false
   },
   "outputs": [
    {
     "name": "stdout",
     "output_type": "stream",
     "text": [
      "201\n",
      "set(['Logarithm', 'Addition', 'Complex number', 'Equation', 'Graduation', 'Mathematics', 'Percentage', 'Trigonometry', 'Calculator', 'Conic section', 'Euclidean vector', 'Student', 'Computer program', 'Apply', 'Law', 'Trigonometric functions', 'Nth root'])\n"
     ]
    }
   ],
   "source": [
    "url='https://gateway.watsonplatform.net/concept-insights/api/v2/graphs/wikipedia/en-20120601/annotate_text'\n",
    "headers = { 'Content-Type': 'text/plain'}\n",
    "r = requests.post(url, \n",
    "                  headers=headers, \n",
    "                  data={'body': text},\n",
    "                  auth=auth)\n",
    "\n",
    "print (r.status_code)\n",
    "concepts = set(label['concept']['label']for label in ast.literal_eval(r.content).values()[0])\n",
    "\n",
    "copy = concepts.copy()\n",
    "pattern1 = '[0-9]'\n",
    "pattern2 = '\\(\\w+\\)'\n",
    "\n",
    "for concept in concepts:\n",
    "    # drop concepts with numerics\n",
    "    r = re.search(pattern1,concept)\n",
    "    if r:\n",
    "        copy.discard(concept)\n",
    "        continue\n",
    "        \n",
    "    r = re.search(pattern2,concept)\n",
    "    if r:\n",
    "        copy.discard(concept)\n",
    "        \n",
    "results = list(copy)"
   ]
  },
  {
   "cell_type": "code",
   "execution_count": 105,
   "metadata": {
    "collapsed": false
   },
   "outputs": [
    {
     "data": {
      "text/plain": [
       "['Logarithm',\n",
       " 'Addition',\n",
       " 'Complex number',\n",
       " 'Equation',\n",
       " 'Graduation',\n",
       " 'Mathematics',\n",
       " 'Percentage',\n",
       " 'Trigonometry',\n",
       " 'Calculator',\n",
       " 'Conic section',\n",
       " 'Euclidean vector',\n",
       " 'Student',\n",
       " 'Computer program',\n",
       " 'Apply',\n",
       " 'Law',\n",
       " 'Trigonometric functions',\n",
       " 'Nth root']"
      ]
     },
     "execution_count": 105,
     "metadata": {},
     "output_type": "execute_result"
    }
   ],
   "source": [
    "list(copy)"
   ]
  },
  {
   "cell_type": "code",
   "execution_count": 80,
   "metadata": {
    "collapsed": false
   },
   "outputs": [
    {
     "data": {
      "text/plain": [
       "u'Identity '"
      ]
     },
     "execution_count": 80,
     "metadata": {},
     "output_type": "execute_result"
    }
   ],
   "source": [
    "content = 'Identity (mathematics)'\n",
    "pattern = '\\(\\w+\\)'\n",
    "r = re.search(pattern,content)\n",
    "content[:r.start()] + content[r.end():]"
   ]
  },
  {
   "cell_type": "code",
   "execution_count": 90,
   "metadata": {
    "collapsed": false
   },
   "outputs": [
    {
     "name": "stdout",
     "output_type": "stream",
     "text": [
      "Identity\n"
     ]
    }
   ],
   "source": [
    "content = 'Identity (mathematics)'\n",
    "pattern = '([\\w]+)\\ (\\(\\w+\\))'\n",
    "match = re.search(pattern,content)\n",
    "if match:\n",
    "    print (match.group(1))\n"
   ]
  },
  {
   "cell_type": "code",
   "execution_count": 95,
   "metadata": {
    "collapsed": false
   },
   "outputs": [],
   "source": [
    "content = '29 (number)'\n",
    "pattern = '[0-9]'\n",
    "r = re.match(pattern,content)"
   ]
  },
  {
   "cell_type": "code",
   "execution_count": 96,
   "metadata": {
    "collapsed": false
   },
   "outputs": [
    {
     "data": {
      "text/plain": [
       "_regex.Match"
      ]
     },
     "execution_count": 96,
     "metadata": {},
     "output_type": "execute_result"
    }
   ],
   "source": [
    "type(r)"
   ]
  },
  {
   "cell_type": "code",
   "execution_count": 100,
   "metadata": {
    "collapsed": false
   },
   "outputs": [],
   "source": [
    "copy = concepts.copy()\n",
    "pattern1 = '[0-9]'\n",
    "pattern2 = '\\(\\w+\\)'\n",
    "\n",
    "for concept in concepts:\n",
    "    # drop concepts with numerics\n",
    "    r = re.search(pattern1,concept)\n",
    "    if r:\n",
    "        copy.discard(concept)\n",
    "        continue\n",
    "        \n",
    "    r = re.search(pattern2,concept)\n",
    "    if r:\n",
    "        copy.discard(concept)\n",
    "        "
   ]
  },
  {
   "cell_type": "code",
   "execution_count": 101,
   "metadata": {
    "collapsed": false
   },
   "outputs": [
    {
     "data": {
      "text/plain": [
       "{'Addition',\n",
       " 'Apply',\n",
       " 'Calculator',\n",
       " 'Complex number',\n",
       " 'Computer program',\n",
       " 'Conic section',\n",
       " 'Equation',\n",
       " 'Euclidean vector',\n",
       " 'Graduation',\n",
       " 'Law',\n",
       " 'Logarithm',\n",
       " 'Mathematics',\n",
       " 'Nth root',\n",
       " 'Percentage',\n",
       " 'Student',\n",
       " 'Trigonometric functions',\n",
       " 'Trigonometry'}"
      ]
     },
     "execution_count": 101,
     "metadata": {},
     "output_type": "execute_result"
    }
   ],
   "source": [
    "copy"
   ]
  },
  {
   "cell_type": "code",
   "execution_count": 21,
   "metadata": {
    "collapsed": false
   },
   "outputs": [],
   "source": [
    "import regex as re\n",
    "from collections import defaultdict"
   ]
  },
  {
   "cell_type": "code",
   "execution_count": null,
   "metadata": {
    "collapsed": true
   },
   "outputs": [],
   "source": [
    "# GET /v2/corpora/{account_id}/{corpus}/documents\n",
    "limit = '0'\n",
    "url = 'https://gateway.watsonplatform.net/concept-insights/api/v2/corpora/liet4blerinu2/math_corp/documents?limit=' + limit\n",
    "r = requests.get(url,auth=auth)\n",
    "docs = ast.literal_eval(r.content)"
   ]
  },
  {
   "cell_type": "code",
   "execution_count": 16,
   "metadata": {
    "collapsed": true
   },
   "outputs": [],
   "source": [
    "results = defaultdict(list)\n",
    "for doc in docs['documents']:\n",
    "    match = re.search(r'documents/([\\w \\d%]+)', doc)\n",
    "    if match: \n",
    "        doc_name = match.group(1) #document name\n",
    "\n",
    "    #Retrieves concepts related to a specific article\n",
    "    url = 'https://gateway.watsonplatform.net/concept-insights/api'+\\\n",
    "          '/v2/corpora/liet4blerinu2/math_corp/documents/'+\\\n",
    "           doc_name + '/related_concepts'\n",
    "    r  = requests.get(url, auth=auth)\n",
    "    ci = ast.literal_eval(r.content) # list of concepts from concept insights per document\n",
    "\n",
    "    #Creates a dictionary with concepts as keys, (doc_name, score) as values\n",
    "    print (r.status_code)\n",
    "    for i, d in enumerate(ci['concepts']):\n",
    "        c = d['concept']['label']\n",
    "        s = d['score']\n",
    "        results[c].append((doc_name, s))\n",
    "        print (i)"
   ]
  },
  {
   "cell_type": "code",
   "execution_count": null,
   "metadata": {
    "collapsed": true
   },
   "outputs": [],
   "source": [
    "url='https://gateway.watsonplatform.net/concept-insights/api/v2'+ graph +'/annotate_text'\n",
    "headers = { 'Content-Type': 'text/plain'}\n",
    "r = requests.post(url, \n",
    "                  headers=headers, \n",
    "                  data={'body': text},\n",
    "                  auth=auth)\n",
    "r.status_code"
   ]
  },
  {
   "cell_type": "code",
   "execution_count": 297,
   "metadata": {
    "collapsed": false
   },
   "outputs": [
    {
     "data": {
      "text/plain": [
       "200"
      ]
     },
     "execution_count": 297,
     "metadata": {},
     "output_type": "execute_result"
    }
   ],
   "source": [
    "# GET /v2/graphs/{account_id}/{graph}/concepts/{concept}/related_concepts\n",
    "url = 'https://gateway.watsonplatform.net/concept-insights/api/v2/graphs/wikipedia/en-20120601/concepts/Topology/related_concepts'\n",
    "r = requests.get(url,\n",
    "               auth=auth)\n",
    "r.status_code"
   ]
  },
  {
   "cell_type": "code",
   "execution_count": 298,
   "metadata": {
    "collapsed": true
   },
   "outputs": [
    {
     "data": {
      "text/plain": [
       "{'concepts': [{'concept': {'id': '/graphs/wikipedia/en-20120601/concepts/Topology',\n",
       "    'label': 'Topology'},\n",
       "   'score': 0.9999561},\n",
       "  {'concept': {'id': '/graphs/wikipedia/en-20120601/concepts/Glossary_of_topology',\n",
       "    'label': 'Glossary of topology'},\n",
       "   'score': 0.99205375},\n",
       "  {'concept': {'id': '/graphs/wikipedia/en-20120601/concepts/Hausdorff_space',\n",
       "    'label': 'Hausdorff space'},\n",
       "   'score': 0.99138063},\n",
       "  {'concept': {'id': '/graphs/wikipedia/en-20120601/concepts/Discrete_space',\n",
       "    'label': 'Discrete space'},\n",
       "   'score': 0.98841244},\n",
       "  {'concept': {'id': '/graphs/wikipedia/en-20120601/concepts/Topological_space',\n",
       "    'label': 'Topological space'},\n",
       "   'score': 0.98813605},\n",
       "  {'concept': {'id': '/graphs/wikipedia/en-20120601/concepts/Locally_compact_space',\n",
       "    'label': 'Locally compact space'},\n",
       "   'score': 0.9845779},\n",
       "  {'concept': {'id': '/graphs/wikipedia/en-20120601/concepts/Connected_space',\n",
       "    'label': 'Connected space'},\n",
       "   'score': 0.9829185},\n",
       "  {'concept': {'id': '/graphs/wikipedia/en-20120601/concepts/Quotient_space',\n",
       "    'label': 'Quotient space'},\n",
       "   'score': 0.9827833},\n",
       "  {'concept': {'id': '/graphs/wikipedia/en-20120601/concepts/3-manifold',\n",
       "    'label': '3-manifold'},\n",
       "   'score': 0.98268205},\n",
       "  {'concept': {'id': '/graphs/wikipedia/en-20120601/concepts/Closed_set',\n",
       "    'label': 'Closed set'},\n",
       "   'score': 0.9821759}]}"
      ]
     },
     "execution_count": 298,
     "metadata": {},
     "output_type": "execute_result"
    }
   ],
   "source": [
    "ast.literal_eval(r.content)"
   ]
  },
  {
   "cell_type": "code",
   "execution_count": 110,
   "metadata": {
    "collapsed": false
   },
   "outputs": [
    {
     "data": {
      "text/plain": [
       "('82a698f0-8d8c-42f9-9c7d-1e4b97eebd52', '50KJG6jdgZ6h')"
      ]
     },
     "execution_count": 110,
     "metadata": {},
     "output_type": "execute_result"
    }
   ],
   "source": [
    "f = open(\"./bluemix_authentication.csv\", \"r\")\n",
    "ast.literal_eval(f.read())"
   ]
  },
  {
   "cell_type": "code",
   "execution_count": null,
   "metadata": {
    "collapsed": true
   },
   "outputs": [],
   "source": []
  }
 ],
 "metadata": {
  "kernelspec": {
   "display_name": "Python 2",
   "language": "python",
   "name": "python2"
  },
  "language_info": {
   "codemirror_mode": {
    "name": "ipython",
    "version": 2
   },
   "file_extension": ".py",
   "mimetype": "text/x-python",
   "name": "python",
   "nbconvert_exporter": "python",
   "pygments_lexer": "ipython2",
   "version": "2.7.10"
  }
 },
 "nbformat": 4,
 "nbformat_minor": 0
}
